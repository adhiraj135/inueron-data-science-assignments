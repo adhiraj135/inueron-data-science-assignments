{
  "nbformat": 4,
  "nbformat_minor": 0,
  "metadata": {
    "colab": {
      "name": "python basic assignment 4",
      "provenance": []
    },
    "kernelspec": {
      "name": "python3",
      "display_name": "Python 3"
    },
    "language_info": {
      "name": "python"
    }
  },
  "cells": [
    {
      "cell_type": "markdown",
      "source": [
        "1. What exactly is []?"
      ],
      "metadata": {
        "id": "v0ybheZr2ELK"
      }
    },
    {
      "cell_type": "markdown",
      "source": [
        "ans = [] is representation of list"
      ],
      "metadata": {
        "id": "KXzW_7dj2HAm"
      }
    },
    {
      "cell_type": "markdown",
      "source": [
        "2. In a list of values stored in a variable called spam, how would you assign the value 'hello' as the\n",
        "third value? (Assume [2, 4, 6, 8, 10] are in spam.)"
      ],
      "metadata": {
        "id": "1evCYT-q2RLj"
      }
    },
    {
      "cell_type": "code",
      "source": [
        "spam = [2,4,6,8,10]\n",
        "spam[2]= \"hello\"\n",
        "spam"
      ],
      "metadata": {
        "colab": {
          "base_uri": "https://localhost:8080/"
        },
        "id": "4EZm-agV2bD_",
        "outputId": "66ee76ca-c5ba-478f-f04c-175b5707bb48"
      },
      "execution_count": 3,
      "outputs": [
        {
          "output_type": "execute_result",
          "data": {
            "text/plain": [
              "[2, 4, 'hello', 8, 10]"
            ]
          },
          "metadata": {},
          "execution_count": 3
        }
      ]
    },
    {
      "cell_type": "markdown",
      "source": [
        "spam= ['a','b','c','d']\n",
        "3. What is the value of spam[int(int('3'* 2) / 11)]?\n",
        "4. What is the value of spam[-1]?\n",
        "5. What is the value of spam[:2]?"
      ],
      "metadata": {
        "id": "XLT_f4J02rdj"
      }
    },
    {
      "cell_type": "code",
      "source": [
        "spam= [\"a\",'b','c','d']"
      ],
      "metadata": {
        "id": "E1vJ_JLd3PLR"
      },
      "execution_count": 7,
      "outputs": []
    },
    {
      "cell_type": "code",
      "source": [
        "spam[int(int('3'* 2) / 11)]"
      ],
      "metadata": {
        "colab": {
          "base_uri": "https://localhost:8080/",
          "height": 36
        },
        "id": "y9Ujyh0i3TiL",
        "outputId": "36242b31-5c56-4aac-864a-e83cc567b474"
      },
      "execution_count": 8,
      "outputs": [
        {
          "output_type": "execute_result",
          "data": {
            "text/plain": [
              "'d'"
            ],
            "application/vnd.google.colaboratory.intrinsic+json": {
              "type": "string"
            }
          },
          "metadata": {},
          "execution_count": 8
        }
      ]
    },
    {
      "cell_type": "code",
      "source": [
        "spam[-1]"
      ],
      "metadata": {
        "colab": {
          "base_uri": "https://localhost:8080/",
          "height": 36
        },
        "id": "6G4E8maD3pUk",
        "outputId": "12b03575-be9b-4314-b970-cc8815b0420c"
      },
      "execution_count": 10,
      "outputs": [
        {
          "output_type": "execute_result",
          "data": {
            "text/plain": [
              "'d'"
            ],
            "application/vnd.google.colaboratory.intrinsic+json": {
              "type": "string"
            }
          },
          "metadata": {},
          "execution_count": 10
        }
      ]
    },
    {
      "cell_type": "code",
      "source": [
        "spam[:2]"
      ],
      "metadata": {
        "colab": {
          "base_uri": "https://localhost:8080/"
        },
        "id": "cQQzps5g3yfv",
        "outputId": "bff876ab-7603-4c17-9ad0-83c7eff17227"
      },
      "execution_count": 11,
      "outputs": [
        {
          "output_type": "execute_result",
          "data": {
            "text/plain": [
              "['a', 'b']"
            ]
          },
          "metadata": {},
          "execution_count": 11
        }
      ]
    },
    {
      "cell_type": "markdown",
      "source": [
        "Let's pretend bacon has the list [3.14, 'cat', 11, 'cat', True] for the next three questions.\n",
        "6. What is the value of bacon.index('cat')?\n",
        "7. How does bacon.append(99) change the look of the list value in bacon?\n",
        "8. How does bacon.remove('cat') change the look of the list in bacon?"
      ],
      "metadata": {
        "id": "AJhJoQv_4TOh"
      }
    },
    {
      "cell_type": "code",
      "source": [
        "bacon = [3.14, 'cat', 11, 'cat', True]\n",
        "a=bacon.index('cat')\n",
        "print(a)"
      ],
      "metadata": {
        "colab": {
          "base_uri": "https://localhost:8080/"
        },
        "id": "PmKpmFGM4vnN",
        "outputId": "73ed66e8-8ef5-4dbf-d5f2-be3fe1f67121"
      },
      "execution_count": 25,
      "outputs": [
        {
          "output_type": "stream",
          "name": "stdout",
          "text": [
            "1\n"
          ]
        }
      ]
    },
    {
      "cell_type": "code",
      "source": [
        "bacon.append(99)\n",
        "bacon"
      ],
      "metadata": {
        "colab": {
          "base_uri": "https://localhost:8080/"
        },
        "id": "OFIAm7wJ40Sw",
        "outputId": "f859e059-7af2-46c3-e3aa-8dadc1422f00"
      },
      "execution_count": 26,
      "outputs": [
        {
          "output_type": "execute_result",
          "data": {
            "text/plain": [
              "[3.14, 'cat', 11, 'cat', True, 99]"
            ]
          },
          "metadata": {},
          "execution_count": 26
        }
      ]
    },
    {
      "cell_type": "code",
      "source": [
        "bacon.remove('cat')\n",
        "bacon"
      ],
      "metadata": {
        "colab": {
          "base_uri": "https://localhost:8080/"
        },
        "id": "_McRWz9L5kcH",
        "outputId": "a1691576-dab4-436c-f774-2c805fc45c9f"
      },
      "execution_count": 28,
      "outputs": [
        {
          "output_type": "execute_result",
          "data": {
            "text/plain": [
              "[3.14, 11, True, 99]"
            ]
          },
          "metadata": {},
          "execution_count": 28
        }
      ]
    },
    {
      "cell_type": "markdown",
      "source": [
        "9. What are the list concatenation and list replication operators?"
      ],
      "metadata": {
        "id": "LG3SMJAK6KJ1"
      }
    },
    {
      "cell_type": "markdown",
      "source": [
        "ans = The operator for list concatenation is +, while the operator for replication is *."
      ],
      "metadata": {
        "id": "7BWDSzLG6pP1"
      }
    },
    {
      "cell_type": "code",
      "source": [
        "l1= [1,2,3]\n",
        "l2= [4,5,6]\n",
        "l1+l2\n",
        "l1*3"
      ],
      "metadata": {
        "colab": {
          "base_uri": "https://localhost:8080/"
        },
        "id": "QBdahshj6HLM",
        "outputId": "f7c7a9d6-cb2a-41a1-f0b3-be9bf9677e27"
      },
      "execution_count": 35,
      "outputs": [
        {
          "output_type": "execute_result",
          "data": {
            "text/plain": [
              "[1, 2, 3, 1, 2, 3, 1, 2, 3]"
            ]
          },
          "metadata": {},
          "execution_count": 35
        }
      ]
    },
    {
      "cell_type": "markdown",
      "source": [
        "10. What is difference between the list methods append() and insert()?"
      ],
      "metadata": {
        "id": "22bOLQU87QrP"
      }
    },
    {
      "cell_type": "markdown",
      "source": [
        "ans= append() will add values only to the end of a list \n",
        "\n",
        "insert() can add them anywhere in the list."
      ],
      "metadata": {
        "id": "hFYv4_cD7UZH"
      }
    },
    {
      "cell_type": "code",
      "source": [
        "l= [2,4,\"a\", True]\n",
        "l.append(3)\n",
        "l"
      ],
      "metadata": {
        "colab": {
          "base_uri": "https://localhost:8080/"
        },
        "id": "7pQtGLLs60QT",
        "outputId": "a754f810-e0dc-4675-f61f-6acec3861b80"
      },
      "execution_count": 31,
      "outputs": [
        {
          "output_type": "execute_result",
          "data": {
            "text/plain": [
              "[2, 4, 'a', True, 3]"
            ]
          },
          "metadata": {},
          "execution_count": 31
        }
      ]
    },
    {
      "cell_type": "code",
      "source": [
        "l.insert(2,\"ad\")\n",
        "l\n",
        "\n",
        "\n",
        "\n"
      ],
      "metadata": {
        "colab": {
          "base_uri": "https://localhost:8080/"
        },
        "id": "nJe3OhnR7qHg",
        "outputId": "9352a6fa-92e4-4437-a59f-0f376388e1f9"
      },
      "execution_count": 34,
      "outputs": [
        {
          "output_type": "execute_result",
          "data": {
            "text/plain": [
              "[2, 4, 'ad', 4, 'a', True, 3]"
            ]
          },
          "metadata": {},
          "execution_count": 34
        }
      ]
    },
    {
      "cell_type": "markdown",
      "source": [
        "11. What are the two methods for removing items from a list?"
      ],
      "metadata": {
        "id": "iNg61qM4744r"
      }
    },
    {
      "cell_type": "markdown",
      "source": [
        "ans = the remove() list method is the way to remove values from a list."
      ],
      "metadata": {
        "id": "X_qL-TGZ8A4L"
      }
    },
    {
      "cell_type": "markdown",
      "source": [
        "\n",
        "12. Describe how list values and string values are identical.\n",
        "\n"
      ],
      "metadata": {
        "id": "_XluG0B78UZ_"
      }
    },
    {
      "cell_type": "markdown",
      "source": [
        "ans = Both lists and strings can be passed to len(), have indexes and slices, be used in for loops, be concatenated or replicated."
      ],
      "metadata": {
        "id": "dIoqd6By8gSh"
      }
    },
    {
      "cell_type": "markdown",
      "source": [
        "13. What's the difference between tuples and lists?"
      ],
      "metadata": {
        "id": "MAivqGTR84gi"
      }
    },
    {
      "cell_type": "markdown",
      "source": [
        "ans = Lists are mutable ,they can have values added, removed, or changed. list are represented by [].\n",
        "\n",
        "Tuples are immutable and they cannot be changed at all. tuples are represented by ()."
      ],
      "metadata": {
        "id": "qJV1wCss8-pW"
      }
    },
    {
      "cell_type": "markdown",
      "source": [
        "14. How do you type a tuple value that only contains the integer 42?"
      ],
      "metadata": {
        "id": "tMBB-uNZ9YZ3"
      }
    },
    {
      "cell_type": "code",
      "source": [
        "t = (42,)"
      ],
      "metadata": {
        "id": "pXE_QMpn9d22"
      },
      "execution_count": 38,
      "outputs": []
    },
    {
      "cell_type": "markdown",
      "source": [
        "15. How do you get a list value's tuple form? How do you get a tuple value's list form?"
      ],
      "metadata": {
        "id": "ACZcKYWs9njn"
      }
    },
    {
      "cell_type": "markdown",
      "source": [
        "ans=  if l is a list then it can be converted into tuple by using tuple(l).\n",
        "\n",
        "if t is a tuple it can be converted into list by using list(t)."
      ],
      "metadata": {
        "id": "CL-PEvwJ94Ws"
      }
    },
    {
      "cell_type": "markdown",
      "source": [
        "16. Variables that \"contain\" list values are not necessarily lists themselves. Instead, what do they\n",
        "contain?"
      ],
      "metadata": {
        "id": "BXTrHuww-Jn1"
      }
    },
    {
      "cell_type": "markdown",
      "source": [
        "ans = They contain references to list values."
      ],
      "metadata": {
        "id": "GwzdSGh0-ffx"
      }
    },
    {
      "cell_type": "markdown",
      "source": [
        "17. How do you distinguish between copy.copy() and copy.deepcopy()?"
      ],
      "metadata": {
        "id": "nT2JS-qe-i0r"
      }
    },
    {
      "cell_type": "markdown",
      "source": [
        "ans = The copy.copy() function will do a shallow copy of a list, while the copy.deepcopy() function will do a deep copy of a list. That is, only copy.deepcopy() will duplicate any lists inside the list."
      ],
      "metadata": {
        "id": "6xNkro-Y-i_R"
      }
    },
    {
      "cell_type": "code",
      "source": [
        "copy = [456,\"adfdwg\"]\n",
        "copy.copy()"
      ],
      "metadata": {
        "colab": {
          "base_uri": "https://localhost:8080/"
        },
        "id": "_J2Q8Czr9goX",
        "outputId": "93516afd-d000-4d1e-95ad-cedcfa875e9c"
      },
      "execution_count": 41,
      "outputs": [
        {
          "output_type": "execute_result",
          "data": {
            "text/plain": [
              "[456, 'adfdwg']"
            ]
          },
          "metadata": {},
          "execution_count": 41
        }
      ]
    },
    {
      "cell_type": "code",
      "source": [
        ""
      ],
      "metadata": {
        "id": "PNxzF6UP_H5v"
      },
      "execution_count": null,
      "outputs": []
    }
  ]
}