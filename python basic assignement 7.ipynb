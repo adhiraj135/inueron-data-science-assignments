{
 "cells": [
  {
   "cell_type": "markdown",
   "id": "ce5bac67",
   "metadata": {},
   "source": [
    "1. What is the name of the feature responsible for generating Regex objects?"
   ]
  },
  {
   "cell_type": "markdown",
   "id": "a6593f5e",
   "metadata": {},
   "source": [
    "ans: re.complile is respinsible for generating regex objects"
   ]
  },
  {
   "cell_type": "markdown",
   "id": "1ee5185c",
   "metadata": {},
   "source": [
    "2. Why do raw strings often appear in Regex objects?"
   ]
  },
  {
   "cell_type": "markdown",
   "id": "46dcf1ce",
   "metadata": {},
   "source": [
    "ans: According to Python docs, raw string notation (r\"text\") keeps regular expressions meaningful and confusion-free. Without it, every backslash ('\\') in a regular expression would have to be prefixed with another one to escape it"
   ]
  },
  {
   "cell_type": "markdown",
   "id": "a4285031",
   "metadata": {},
   "source": [
    "3. What is the return value of the search() method?"
   ]
  },
  {
   "cell_type": "code",
   "execution_count": 1,
   "id": "00d5c603",
   "metadata": {},
   "outputs": [],
   "source": [
    "import re"
   ]
  },
  {
   "cell_type": "code",
   "execution_count": 2,
   "id": "8d63fb8e",
   "metadata": {},
   "outputs": [
    {
     "data": {
      "text/plain": [
       "<re.Match object; span=(21, 25), match='data'>"
      ]
     },
     "execution_count": 2,
     "metadata": {},
     "output_type": "execute_result"
    }
   ],
   "source": [
    "re.search(\"data\",\"this is the class of datasciecne in python\")"
   ]
  },
  {
   "cell_type": "markdown",
   "id": "b84cfd42",
   "metadata": {},
   "source": [
    "ans: search value given span of index covered by the match to be searched"
   ]
  },
  {
   "cell_type": "markdown",
   "id": "2d51caf1",
   "metadata": {},
   "source": [
    "4. From a Match item, how do you get the actual strings that match the pattern?"
   ]
  },
  {
   "cell_type": "code",
   "execution_count": 11,
   "id": "54019ed2",
   "metadata": {},
   "outputs": [
    {
     "data": {
      "text/plain": [
       "['is', 'is', 'i', 'i']"
      ]
     },
     "execution_count": 11,
     "metadata": {},
     "output_type": "execute_result"
    }
   ],
   "source": [
    "re.findall(\"is*\",\"this is the class of datasciecne in python\")"
   ]
  },
  {
   "cell_type": "code",
   "execution_count": 14,
   "id": "e3c23038",
   "metadata": {},
   "outputs": [
    {
     "name": "stdout",
     "output_type": "stream",
     "text": [
      "('415', '555-4242')\n"
     ]
    }
   ],
   "source": [
    "phoneNumRegex = re.compile(r'(\\d\\d\\d)-(\\d\\d\\d-\\d\\d\\d\\d)')\n",
    "mo = phoneNumRegex.search('My number is 415-555-4242.')\n",
    "print(mo.groups())"
   ]
  },
  {
   "cell_type": "markdown",
   "id": "4bf4b2c0",
   "metadata": {},
   "source": [
    "5. In the regex which created from the r'(\\d\\d\\d)-(\\d\\d\\d-\\d\\d\\d\\d)&#39;, what does group zero cover?\n",
    "Group 2? Group 1?"
   ]
  },
  {
   "cell_type": "markdown",
   "id": "4523c01b",
   "metadata": {},
   "source": [
    "ans: Group 0 is the entire match, group 1 covers the first set of parentheses, and group 2 covers the second set of parentheses."
   ]
  },
  {
   "cell_type": "code",
   "execution_count": 20,
   "id": "9b3c5a04",
   "metadata": {},
   "outputs": [
    {
     "name": "stdout",
     "output_type": "stream",
     "text": [
      "415-555-4242\n",
      "415\n",
      "555-4242\n"
     ]
    }
   ],
   "source": [
    "import re\n",
    "phoneNumRegex = re.compile(r'(\\d\\d\\d)-(\\d\\d\\d-\\d\\d\\d\\d)')\n",
    "mo = phoneNumRegex.search('My number is 415-555-4242.')\n",
    "print(mo.group(0))\n",
    "print(mo.group(1))\n",
    "print(mo.group(2))"
   ]
  },
  {
   "cell_type": "markdown",
   "id": "179e93cb",
   "metadata": {},
   "source": [
    "6. In standard expression syntax, parentheses and intervals have distinct meanings. How can you tell\n",
    "a regex that you want it to fit real parentheses and periods?"
   ]
  },
  {
   "cell_type": "markdown",
   "id": "215388fa",
   "metadata": {},
   "source": [
    "ans:\n",
    "    \n",
    "    interval is stated with - for example if we require all the digits(0-9) will give the interval.\n",
    "    \n",
    "    paranthesis is stated with () it encloses the pattern to be matched.\n",
    "    \n",
    "    "
   ]
  },
  {
   "cell_type": "markdown",
   "id": "46d175b6",
   "metadata": {},
   "source": [
    "7. The findall() method returns a string list or a list of string tuples. What causes it to return one of\n",
    "the two options?"
   ]
  },
  {
   "cell_type": "markdown",
   "id": "8d18f303",
   "metadata": {},
   "source": [
    "ans: findall returns a list not tuple"
   ]
  },
  {
   "cell_type": "code",
   "execution_count": 21,
   "id": "af925977",
   "metadata": {},
   "outputs": [
    {
     "data": {
      "text/plain": [
       "['is', 'is']"
      ]
     },
     "execution_count": 21,
     "metadata": {},
     "output_type": "execute_result"
    }
   ],
   "source": [
    "re.findall(\"is\",\"this is the datascience course \")"
   ]
  },
  {
   "cell_type": "markdown",
   "id": "415a62f5",
   "metadata": {},
   "source": [
    "8. In standard expressions, what does the | character mean?\n"
   ]
  },
  {
   "cell_type": "markdown",
   "id": "01a0cc91",
   "metadata": {},
   "source": [
    "ans: in regex, | states Either or"
   ]
  },
  {
   "cell_type": "markdown",
   "id": "ae7cb57a",
   "metadata": {},
   "source": [
    "9. In regular expressions, what does the character stand for?"
   ]
  },
  {
   "cell_type": "markdown",
   "id": "55e13cb9",
   "metadata": {},
   "source": [
    "ans: All characters, except those having special meaning in regex, matches themselves. E.g., the regex x matches substring \"x\"; regex 9 matches \"9\"; regex = matches \"=\"; and regex @ matches \"@\"."
   ]
  },
  {
   "cell_type": "markdown",
   "id": "608ae7d1",
   "metadata": {},
   "source": [
    "10.In regular expressions, what is the difference between the + and * characters?"
   ]
  },
  {
   "cell_type": "markdown",
   "id": "2f35d9ae",
   "metadata": {},
   "source": [
    "ans: * means Zero or more occurrences\n",
    "\n",
    "     + one or more occurrences\n"
   ]
  },
  {
   "cell_type": "code",
   "execution_count": 40,
   "id": "f0ae6d96",
   "metadata": {},
   "outputs": [
    {
     "data": {
      "text/plain": [
       "['is', 'is', 'i']"
      ]
     },
     "execution_count": 40,
     "metadata": {},
     "output_type": "execute_result"
    }
   ],
   "source": [
    "re.findall(r'is*','this is the course for datascience')"
   ]
  },
  {
   "cell_type": "code",
   "execution_count": 41,
   "id": "6fef3e5e",
   "metadata": {},
   "outputs": [
    {
     "data": {
      "text/plain": [
       "['is', 'is']"
      ]
     },
     "execution_count": 41,
     "metadata": {},
     "output_type": "execute_result"
    }
   ],
   "source": [
    "re.findall(r'is+','this is the course for datascience')"
   ]
  },
  {
   "cell_type": "markdown",
   "id": "1467523d",
   "metadata": {},
   "source": [
    "11. What is the difference between {4} and {4,5} in regular expression?"
   ]
  },
  {
   "cell_type": "markdown",
   "id": "fe125728",
   "metadata": {},
   "source": [
    "ans:  The {4} matches exactly three instances of the preceding group. The {4,5} matches between three and five instances."
   ]
  },
  {
   "cell_type": "code",
   "execution_count": 47,
   "id": "ea2c8999",
   "metadata": {},
   "outputs": [
    {
     "data": {
      "text/plain": [
       "['aaaa', 'aaaa']"
      ]
     },
     "execution_count": 47,
     "metadata": {},
     "output_type": "execute_result"
    }
   ],
   "source": [
    "re.findall('a{4}','baaaatttttaaaaa')"
   ]
  },
  {
   "cell_type": "code",
   "execution_count": 48,
   "id": "95e830ee",
   "metadata": {},
   "outputs": [
    {
     "data": {
      "text/plain": [
       "['aaaa', 'aaaaa']"
      ]
     },
     "execution_count": 48,
     "metadata": {},
     "output_type": "execute_result"
    }
   ],
   "source": [
    "re.findall('a{4,5}','baaaatttttaaaaa')"
   ]
  },
  {
   "cell_type": "markdown",
   "id": "b2ae2a65",
   "metadata": {},
   "source": [
    "12. What do you mean by the \\d, \\w, and \\s shorthand character classes signify in regular\n",
    "expressions?"
   ]
  },
  {
   "cell_type": "markdown",
   "id": "a7e73f75",
   "metadata": {},
   "source": [
    "ans:  \n",
    "       \n",
    "       \\w Returns a match where the string contains any word characters (characters from a to Z, digits from 0-9, and the underscore _ character)\n",
    "      \n",
    "      \\d Returns a match where the string contains digits (numbers from 0-9)\n",
    "      \n",
    "      \\s Returns a match where the string contains a white space character\n",
    "      "
   ]
  },
  {
   "cell_type": "markdown",
   "id": "11148a06",
   "metadata": {},
   "source": [
    "13. What do means by \\D, \\W, and \\S shorthand character classes signify in regular expressions?\n"
   ]
  },
  {
   "cell_type": "markdown",
   "id": "0345dc12",
   "metadata": {},
   "source": [
    "ans:\n",
    "    \n",
    "    \n",
    "     \\W Returns a match where the string doesnot contains any word characters (characters from a to Z, digits from 0-9, and the underscore _ character)\n",
    "\n",
    "     \\D Returns a match where the string doesnot contains digits (numbers from 0-9)\n",
    "\n",
    "     \\S Returns a match where the string doesnot contains a white space character"
   ]
  },
  {
   "cell_type": "raw",
   "id": "4c23dca9",
   "metadata": {},
   "source": [
    "14. What is the difference between .*? and .*?"
   ]
  },
  {
   "cell_type": "markdown",
   "id": "e528d194",
   "metadata": {},
   "source": [
    "ans: .* is a Greedy mode, which returns the longest string that meets the condition. Whereas .*? is a non greedy mode which returns the shortest string that meets the condition."
   ]
  },
  {
   "cell_type": "markdown",
   "id": "df788c26",
   "metadata": {},
   "source": [
    "15. What is the syntax for matching both numbers and lowercase letters with a character class?\n"
   ]
  },
  {
   "cell_type": "raw",
   "id": "8340daf7",
   "metadata": {},
   "source": [
    "Ans: The Synatax is Either [a-z0-9] or [0-9a-z]"
   ]
  },
  {
   "cell_type": "markdown",
   "id": "463c656e",
   "metadata": {},
   "source": [
    "16. What is the procedure for making a normal expression in regax case insensitive?\n"
   ]
  },
  {
   "cell_type": "markdown",
   "id": "4b7fe9d7",
   "metadata": {},
   "source": [
    "Ans: re.IGNORECASE can be used as a flag to make a nornal expression case insensitive"
   ]
  },
  {
   "cell_type": "markdown",
   "id": "5a550c07",
   "metadata": {},
   "source": [
    "17. What does the . character normally match? What does it match if re.DOTALL is passed as 2nd\n",
    "argument in re.compile()?"
   ]
  },
  {
   "cell_type": "markdown",
   "id": "5353d363",
   "metadata": {},
   "source": [
    "Dot . character matches everything in input except newline character .. By passing re.DOTALL as a flag to re.compile(), you can make the dot character match all characters, including the newline character."
   ]
  },
  {
   "cell_type": "markdown",
   "id": "e5463176",
   "metadata": {},
   "source": [
    "18. If numReg = re.compile(r'\\d+'), what will numRegex.sub('X', '11 drummers, 10 pipers, five rings, 4\n",
    "hen') return?"
   ]
  },
  {
   "cell_type": "code",
   "execution_count": 56,
   "id": "f1f8d637",
   "metadata": {},
   "outputs": [],
   "source": [
    "numRegex= re.compile(r'\\d+')"
   ]
  },
  {
   "cell_type": "code",
   "execution_count": 57,
   "id": "410fdc58",
   "metadata": {},
   "outputs": [
    {
     "data": {
      "text/plain": [
       "'X drummers, X pipers, five rings, X hen'"
      ]
     },
     "execution_count": 57,
     "metadata": {},
     "output_type": "execute_result"
    }
   ],
   "source": [
    "numRegex.sub('X', '11 drummers, 10 pipers, five rings, 4 hen')"
   ]
  },
  {
   "cell_type": "markdown",
   "id": "6660dae0",
   "metadata": {},
   "source": [
    "19. What does passing re.VERBOSE as the 2nd argument to re.compile() allow to do?"
   ]
  },
  {
   "cell_type": "markdown",
   "id": "d06b4c67",
   "metadata": {},
   "source": [
    "ans: Ans: re.VERBOSE will allow to add whitespace and comments to string passed to re.compile()."
   ]
  },
  {
   "cell_type": "markdown",
   "id": "09e472e5",
   "metadata": {},
   "source": [
    "20. How would you write a regex that match a number with comma for every three digits? It must\n",
    "match the given following:\n",
    "\n",
    "'42'\n",
    "\n",
    "'1,234'\n",
    "\n",
    "'6,368,745'"
   ]
  },
  {
   "cell_type": "code",
   "execution_count": 71,
   "id": "3b9afdb1",
   "metadata": {},
   "outputs": [],
   "source": [
    "s=re.compile(r'^\\d{1,3}(,\\d{3})*$')"
   ]
  },
  {
   "cell_type": "code",
   "execution_count": 72,
   "id": "fb120fdc",
   "metadata": {},
   "outputs": [
    {
     "name": "stdout",
     "output_type": "stream",
     "text": [
      "1,231,242\n"
     ]
    }
   ],
   "source": [
    "a=s.search('1,231,242')\n",
    "print(a.group())"
   ]
  },
  {
   "cell_type": "code",
   "execution_count": 73,
   "id": "d185c05b",
   "metadata": {},
   "outputs": [
    {
     "name": "stdout",
     "output_type": "stream",
     "text": [
      "42\n"
     ]
    }
   ],
   "source": [
    "a=s.search('42')\n",
    "print(a.group())"
   ]
  },
  {
   "cell_type": "code",
   "execution_count": 74,
   "id": "07ad562e",
   "metadata": {},
   "outputs": [
    {
     "name": "stdout",
     "output_type": "stream",
     "text": [
      "1,234\n"
     ]
    }
   ],
   "source": [
    "a=s.search('1,234')\n",
    "print(a.group())"
   ]
  },
  {
   "cell_type": "code",
   "execution_count": 75,
   "id": "8207260f",
   "metadata": {},
   "outputs": [
    {
     "ename": "AttributeError",
     "evalue": "'NoneType' object has no attribute 'group'",
     "output_type": "error",
     "traceback": [
      "\u001b[1;31m---------------------------------------------------------------------------\u001b[0m",
      "\u001b[1;31mAttributeError\u001b[0m                            Traceback (most recent call last)",
      "Input \u001b[1;32mIn [75]\u001b[0m, in \u001b[0;36m<cell line: 2>\u001b[1;34m()\u001b[0m\n\u001b[0;32m      1\u001b[0m a\u001b[38;5;241m=\u001b[39ms\u001b[38;5;241m.\u001b[39msearch(\u001b[38;5;124m'\u001b[39m\u001b[38;5;124m1234\u001b[39m\u001b[38;5;124m'\u001b[39m)\n\u001b[1;32m----> 2\u001b[0m \u001b[38;5;28mprint\u001b[39m(\u001b[43ma\u001b[49m\u001b[38;5;241;43m.\u001b[39;49m\u001b[43mgroup\u001b[49m())\n",
      "\u001b[1;31mAttributeError\u001b[0m: 'NoneType' object has no attribute 'group'"
     ]
    }
   ],
   "source": [
    "a=s.search('1234')\n",
    "print(a.group())"
   ]
  },
  {
   "cell_type": "markdown",
   "id": "fa310a42",
   "metadata": {},
   "source": [
    "21. How would you write a regex that matches the full name of someone whose last name is\n",
    "Watanabe? You can assume that the first name that comes before it will always be one word that\n",
    "begins with a capital letter. The regex must match the following:\n",
    "\n",
    "'Haruto Watanabe'\n",
    "\n",
    "'Alice Watanabe'\n",
    "\n",
    "'RoboCop Watanabe'\n",
    "\n",
    "but not the following:\n",
    "\n",
    "'haruto Watanabe' (where the first name is not capitalized)\n",
    "\n",
    "'Mr. Watanabe' (where the preceding word has a nonletter character)\n",
    "\n",
    "'Watanabe' (which has no first name)\n",
    "\n",
    "'Haruto watanabe' (where Watanabe is not capitalized)"
   ]
  },
  {
   "cell_type": "code",
   "execution_count": 88,
   "id": "807b607a",
   "metadata": {},
   "outputs": [],
   "source": [
    "pat=re.compile(r'(^[A-Z]{1}[a-z]*\\sWatanabe+$)')"
   ]
  },
  {
   "cell_type": "code",
   "execution_count": 89,
   "id": "f89c138e",
   "metadata": {},
   "outputs": [],
   "source": [
    "l=['Haruto Watanabe','Alice Watanabe','RoboCop Watanabe','haruto Watanabe','Mr. Watanabe','Watanabe','Haruto watanabe']"
   ]
  },
  {
   "cell_type": "code",
   "execution_count": 90,
   "id": "5af9e6ac",
   "metadata": {},
   "outputs": [
    {
     "name": "stdout",
     "output_type": "stream",
     "text": [
      "Output:  Haruto Watanabe -> <re.Match object; span=(0, 15), match='Haruto Watanabe'>\n",
      "Output:  Alice Watanabe -> <re.Match object; span=(0, 14), match='Alice Watanabe'>\n",
      "Output:  RoboCop Watanabe -> None\n",
      "Output:  haruto Watanabe -> None\n",
      "Output:  Mr. Watanabe -> None\n",
      "Output:  Watanabe -> None\n",
      "Output:  Haruto watanabe -> None\n"
     ]
    }
   ],
   "source": [
    "for name in l:\n",
    "    print('Output: ',name,'->',pat.search(name))\n",
    "    "
   ]
  },
  {
   "cell_type": "markdown",
   "id": "6d2ac5d9",
   "metadata": {},
   "source": [
    "22. How would you write a regex that matches a sentence where the first word is either Alice, Bob,\n",
    "or Carol; the second word is either eats, pets, or throws; the third word is apples, cats, or baseballs;\n",
    "and the sentence ends with a period? This regex should be case-insensitive. It must match the\n",
    "following:\n",
    "\n",
    "'Alice eats apples.'\n",
    "\n",
    "'Bob pets cats.'\n",
    "\n",
    "'Carol throws baseballs.'\n",
    "\n",
    "'Alice throws Apples.'\n",
    "\n",
    "'BOB EATS CATS.'\n",
    "\n",
    "but not the following:\n",
    "\n",
    "'RoboCop eats apples.'\n",
    "\n",
    "'ALICE THROWS FOOTBALLS.'\n",
    "\n",
    "'Carol eats 7 cats.'\n",
    "\n"
   ]
  },
  {
   "cell_type": "code",
   "execution_count": 95,
   "id": "e062fae6",
   "metadata": {},
   "outputs": [],
   "source": [
    "pattern = re.compile(r'((Alice|Bob|Carol)\\s(eats|pets|throws)\\s(apples|cats|baseballs)\\.)')"
   ]
  },
  {
   "cell_type": "code",
   "execution_count": 96,
   "id": "544253c3",
   "metadata": {},
   "outputs": [],
   "source": [
    "l=['Alice eats apples.','Bob pets cats.','Carol throws baseballs.','Alice throws Apples.','BOB EATS CATS.','RoboCop eats apples.','ALICE THROWS FOOTBALLS.','Carol eats 7 cats.']"
   ]
  },
  {
   "cell_type": "code",
   "execution_count": 97,
   "id": "15f039f1",
   "metadata": {},
   "outputs": [
    {
     "name": "stdout",
     "output_type": "stream",
     "text": [
      "Output:  Alice eats apples. -> <re.Match object; span=(0, 18), match='Alice eats apples.'>\n",
      "Output:  Bob pets cats. -> <re.Match object; span=(0, 14), match='Bob pets cats.'>\n",
      "Output:  Carol throws baseballs. -> <re.Match object; span=(0, 23), match='Carol throws baseballs.'>\n",
      "Output:  Alice throws Apples. -> None\n",
      "Output:  BOB EATS CATS. -> None\n",
      "Output:  RoboCop eats apples. -> None\n",
      "Output:  ALICE THROWS FOOTBALLS. -> None\n",
      "Output:  Carol eats 7 cats. -> None\n"
     ]
    }
   ],
   "source": [
    "for name in l:\n",
    "    print('Output: ',name,'->',pattern.search(name))"
   ]
  },
  {
   "cell_type": "code",
   "execution_count": null,
   "id": "eb57f237",
   "metadata": {},
   "outputs": [],
   "source": []
  }
 ],
 "metadata": {
  "kernelspec": {
   "display_name": "Python 3 (ipykernel)",
   "language": "python",
   "name": "python3"
  },
  "language_info": {
   "codemirror_mode": {
    "name": "ipython",
    "version": 3
   },
   "file_extension": ".py",
   "mimetype": "text/x-python",
   "name": "python",
   "nbconvert_exporter": "python",
   "pygments_lexer": "ipython3",
   "version": "3.9.12"
  }
 },
 "nbformat": 4,
 "nbformat_minor": 5
}
