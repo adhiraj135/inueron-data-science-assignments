{
  "nbformat": 4,
  "nbformat_minor": 0,
  "metadata": {
    "colab": {
      "name": "python basic assignment 9",
      "provenance": []
    },
    "kernelspec": {
      "name": "python3",
      "display_name": "Python 3"
    },
    "language_info": {
      "name": "python"
    }
  },
  "cells": [
    {
      "cell_type": "markdown",
      "source": [
        "1. To what does a relative path refer?"
      ],
      "metadata": {
        "id": "-nns2MP5bIJf"
      }
    },
    {
      "cell_type": "markdown",
      "source": [
        "ans= A relative path that depicts the location of a file or folder is relative to the current working directory.\n",
        "\n",
        "os.path.relpath() method in Python is used to get a relative filepath to the given path either from the current working directory or from the given directory.\n"
      ],
      "metadata": {
        "id": "kfj2qzRIbMC9"
      }
    },
    {
      "cell_type": "code",
      "source": [
        "import os\n",
        "f= open(\"test\",\"w+\")"
      ],
      "metadata": {
        "id": "K_vQDTeqbWqu"
      },
      "execution_count": 3,
      "outputs": []
    },
    {
      "cell_type": "code",
      "source": [
        "os.path.realpath(\"test\")"
      ],
      "metadata": {
        "colab": {
          "base_uri": "https://localhost:8080/",
          "height": 36
        },
        "id": "4jr-b28zboyp",
        "outputId": "79fb18cc-c9c7-4635-8e60-e0a6e9a78437"
      },
      "execution_count": 5,
      "outputs": [
        {
          "output_type": "execute_result",
          "data": {
            "text/plain": [
              "'/content/test'"
            ],
            "application/vnd.google.colaboratory.intrinsic+json": {
              "type": "string"
            }
          },
          "metadata": {},
          "execution_count": 5
        }
      ]
    },
    {
      "cell_type": "markdown",
      "source": [
        "2. What does an absolute path start with your operating system?"
      ],
      "metadata": {
        "id": "3ODeXajacIgP"
      }
    },
    {
      "cell_type": "markdown",
      "source": [
        "ans= An absolute path is a path that describes the location of a file or folder regardless of the current working directory"
      ],
      "metadata": {
        "id": "JQn-l-3BcLxo"
      }
    },
    {
      "cell_type": "markdown",
      "source": [
        "3. What do the functions os.getcwd() and os.chdir() do?"
      ],
      "metadata": {
        "id": "7IuEAKwEc4Z_"
      }
    },
    {
      "cell_type": "markdown",
      "source": [
        "ans= os.getcwd() is used to derive the current working directory of the file.\n",
        "it is similar to pwd().\n",
        "\n",
        "os.chdir() allows us to change the working directory of the file."
      ],
      "metadata": {
        "id": "mJfICWtIc7kW"
      }
    },
    {
      "cell_type": "code",
      "source": [
        "f= open(\"test1\",\"w+\")\n",
        "os.getcwd()"
      ],
      "metadata": {
        "colab": {
          "base_uri": "https://localhost:8080/",
          "height": 36
        },
        "id": "ddWXmbRydeqF",
        "outputId": "358f01ea-219a-43b2-d6b1-883841524ab4"
      },
      "execution_count": 7,
      "outputs": [
        {
          "output_type": "execute_result",
          "data": {
            "text/plain": [
              "'/content'"
            ],
            "application/vnd.google.colaboratory.intrinsic+json": {
              "type": "string"
            }
          },
          "metadata": {},
          "execution_count": 7
        }
      ]
    },
    {
      "cell_type": "code",
      "source": [
        "os.chdir('/content//sample_data')"
      ],
      "metadata": {
        "id": "iIh4Fzrmdjb4"
      },
      "execution_count": 12,
      "outputs": []
    },
    {
      "cell_type": "code",
      "source": [
        "os.getcwd()"
      ],
      "metadata": {
        "colab": {
          "base_uri": "https://localhost:8080/",
          "height": 36
        },
        "id": "fC-WrJN7dwb4",
        "outputId": "2ff3cc7b-56a9-462a-88ba-2e2b3d611725"
      },
      "execution_count": 14,
      "outputs": [
        {
          "output_type": "execute_result",
          "data": {
            "text/plain": [
              "'/content/sample_data'"
            ],
            "application/vnd.google.colaboratory.intrinsic+json": {
              "type": "string"
            }
          },
          "metadata": {},
          "execution_count": 14
        }
      ]
    },
    {
      "cell_type": "markdown",
      "source": [
        "4. What are the . and .. folders?"
      ],
      "metadata": {
        "id": "vxddYZ8jePni"
      }
    },
    {
      "cell_type": "markdown",
      "source": [
        "ans= The . folder is the current folder, and .. is the parent folder."
      ],
      "metadata": {
        "id": "IHoKf_M8eSxy"
      }
    },
    {
      "cell_type": "markdown",
      "source": [
        "5. In C:\\bacon\\eggs\\spam.txt, which part is the dir name, and which part is the base name?"
      ],
      "metadata": {
        "id": "Kge7gKgWfBHE"
      }
    },
    {
      "cell_type": "markdown",
      "source": [
        "ans. C:\\bacon\\eggs is the dir name and spam.txt is the base name"
      ],
      "metadata": {
        "id": "4_0_Kz8ufGVc"
      }
    },
    {
      "cell_type": "markdown",
      "source": [
        "6. What are the three “mode” arguments that can be passed to the open() function?"
      ],
      "metadata": {
        "id": "FPN8Pl2wfVqv"
      }
    },
    {
      "cell_type": "markdown",
      "source": [
        "ans= The string 'w' for write mode, 'r' for read mode, and 'a' for append mode.\n",
        "\n",
        "+can be usde for both read and write mode"
      ],
      "metadata": {
        "id": "rF2_vaJwfnr2"
      }
    },
    {
      "cell_type": "markdown",
      "source": [
        "7. What happens if an existing file is opened in write mode?"
      ],
      "metadata": {
        "id": "J-MU6cU-f6hO"
      }
    },
    {
      "cell_type": "markdown",
      "source": [
        "ans= An existing file opened in write mode is erased and completely overwritten."
      ],
      "metadata": {
        "id": "6CzO4VhLgEzA"
      }
    },
    {
      "cell_type": "markdown",
      "source": [
        "8. How do you tell the difference between read() and readlines()?"
      ],
      "metadata": {
        "id": "wS5nd62rgJXB"
      }
    },
    {
      "cell_type": "code",
      "source": [
        "f= open(\"test2\", \"w\")\n",
        "f.write(\"i am a student of inueron and pursuing data science course jvahhavbvabvabbvdhbhdvbhbvhbvhdbbavhbvhdbdhbvhdbvhvbhvbvb\")\n",
        "f.close()\n",
        "f=open(\"test2\",\"r\")\n",
        "f.read()\n",
        "f.close()\n"
      ],
      "metadata": {
        "id": "2ynpsw0_gsIs"
      },
      "execution_count": 25,
      "outputs": []
    },
    {
      "cell_type": "code",
      "source": [
        "f= open(\"test2\", \"w\")\n",
        "f.write(\"i am a student of inueron and pursuing data science course jvahhavbvabvabbvdhbhdvbhbvhbvhdbbavhbvhdbdhbvhdbvhvbhvbvb\")\n",
        "f.close()\n",
        "f=open(\"test2\",\"r\")\n",
        "f.readlines()"
      ],
      "metadata": {
        "colab": {
          "base_uri": "https://localhost:8080/"
        },
        "id": "El7Q1n0IgxRs",
        "outputId": "aebdb263-fa38-44a3-f709-7119542e297f"
      },
      "execution_count": 26,
      "outputs": [
        {
          "output_type": "execute_result",
          "data": {
            "text/plain": [
              "['i am a student of inueron and pursuing data science course jvahhavbvabvabbvdhbhdvbhbvhbvhdbbavhbvhdbdhbvhdbvhvbhvbvb']"
            ]
          },
          "metadata": {},
          "execution_count": 26
        }
      ]
    },
    {
      "cell_type": "markdown",
      "source": [
        "9. What data structure does a shelf value resemble?"
      ],
      "metadata": {
        "id": "LRnyD38fh0Vn"
      }
    },
    {
      "cell_type": "markdown",
      "source": [
        "ans=  A shelf value resembles a dictionary value; it has keys and values, along with keys() and values() methods that work similarly to the dictionary methods of the same names."
      ],
      "metadata": {
        "id": "kvHR4Iakh52h"
      }
    },
    {
      "cell_type": "code",
      "source": [
        ""
      ],
      "metadata": {
        "id": "dVuip9KHiR9X"
      },
      "execution_count": null,
      "outputs": []
    }
  ]
}