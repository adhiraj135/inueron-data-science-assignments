{
  "nbformat": 4,
  "nbformat_minor": 0,
  "metadata": {
    "colab": {
      "name": "python basic assignment 2",
      "provenance": []
    },
    "kernelspec": {
      "name": "python3",
      "display_name": "Python 3"
    },
    "language_info": {
      "name": "python"
    }
  },
  "cells": [
    {
      "cell_type": "markdown",
      "source": [
        "1.What are the two values of the Boolean data type? How do you write them?"
      ],
      "metadata": {
        "id": "kdYZThGYhKj7"
      }
    },
    {
      "cell_type": "markdown",
      "source": [
        "ans = the 2 values of boolean data types are true and false and are represented by True and False respectively."
      ],
      "metadata": {
        "id": "IQiYorDehPgI"
      }
    },
    {
      "cell_type": "markdown",
      "source": [
        "2. What are the three different types of Boolean operators?"
      ],
      "metadata": {
        "id": "aSNk-iDFhkCE"
      }
    },
    {
      "cell_type": "markdown",
      "source": [
        "ans= the three basic types of boolean operators are as follows:-\n",
        "\n",
        "1. and\n",
        "\n",
        "2. or\n",
        "\n",
        "3. not"
      ],
      "metadata": {
        "id": "bsyky4gQiLjl"
      }
    },
    {
      "cell_type": "markdown",
      "source": [
        "3) Make a list of each Boolean operator&#39;s truth tables (i.e. every possible combination of Boolean\n",
        "values for the operator and what it evaluate )."
      ],
      "metadata": {
        "id": "YWgjYUrAiUbT"
      }
    },
    {
      "cell_type": "markdown",
      "source": [
        "ans = and Truth table\n",
        "\n",
        "True\tand\tTrue -\tTrue\n",
        "\n",
        "True\tand\tFalse -\tFalse\n",
        "\n",
        "False\tand\tTrue - False\n",
        "\n",
        "False\tand\tFalse\t- False\n",
        "\n",
        "OR Truth Table\n",
        "\n",
        "True\tor\tTrue -\tTrue\n",
        "\n",
        "True\tor\tFalse -\tTrue\n",
        "\n",
        "False\tor\tTrue -\tTrue\n",
        "\n",
        "False\tor\tFalse\t- False\n",
        "\n",
        "NOT Truth Table\n",
        "\n",
        "not\tTrue - False\n",
        "\n",
        "not\tFalse -\tTrue"
      ],
      "metadata": {
        "id": "IxZWWSPUi0gg"
      }
    },
    {
      "cell_type": "markdown",
      "source": [
        "4. What are the values of the following expressions?"
      ],
      "metadata": {
        "id": "bTvxlbk9j5oa"
      }
    },
    {
      "cell_type": "markdown",
      "source": [
        "ans = \n",
        "\n",
        "(5 > 4) and (3 == 5) - False\n",
        "\n",
        "not (5 > 4) - False\n",
        "\n",
        "(5 > 4) or (3 == 5)- True\n",
        "\n",
        "not ((5 > 4) or (3 == 5)) - False\n",
        "\n",
        "(True and True) and (True == False)- False\n",
        "\n",
        "(not False) or (not True) - True"
      ],
      "metadata": {
        "id": "oqgZiBzVkKn-"
      }
    },
    {
      "cell_type": "markdown",
      "source": [
        "5. What are the six comparison operators?"
      ],
      "metadata": {
        "id": "8cr58PnclwyQ"
      }
    },
    {
      "cell_type": "markdown",
      "source": [
        "ans = Less than ( < )\n",
        "\n",
        "Less than or equal to ( <= )\n",
        "\n",
        "Greater than ( > )\n",
        "\n",
        "Greater than or equal to ( >= )\n",
        "\n",
        "Equal to ( == )\n",
        "\n",
        "Not equal to ( != )"
      ],
      "metadata": {
        "id": "YgO5uIXzl3vj"
      }
    },
    {
      "cell_type": "markdown",
      "source": [
        "6. How do you tell the difference between the equal to and assignment operators?Describe a\n",
        "condition and when you would use one."
      ],
      "metadata": {
        "id": "DkU0Pf7mmS5G"
      }
    },
    {
      "cell_type": "markdown",
      "source": [
        "ans= The “=” is an assignment operator is used to assign the value on the right to the variable on the left. The '==' operator checks whether the two given operands are equal or not. If so, it returns true. Otherwise it returns false."
      ],
      "metadata": {
        "id": "uRopv7rtmqoZ"
      }
    },
    {
      "cell_type": "markdown",
      "source": [
        "7. Identify the three blocks in this code:"
      ],
      "metadata": {
        "id": "8tBJIVKwm-mO"
      }
    },
    {
      "cell_type": "code",
      "source": [
        "spam = 0\n",
        "if spam == 10:\n",
        " print(\"eggs\")\n",
        "if spam == 5:\n",
        " print(\"bacon\")\n",
        "else:\n",
        " print(\"ham\")\n",
        " print(\"spam\")\n",
        " print(\"spam\")"
      ],
      "metadata": {
        "colab": {
          "base_uri": "https://localhost:8080/"
        },
        "id": "L-9AQRKmlu8o",
        "outputId": "4c59f849-a429-4ca4-eca0-904d77b36c78"
      },
      "execution_count": 2,
      "outputs": [
        {
          "output_type": "stream",
          "name": "stdout",
          "text": [
            "ham\n",
            "spam\n",
            "spam\n"
          ]
        }
      ]
    },
    {
      "cell_type": "markdown",
      "source": [
        "8. Write code that prints Hello if 1 is stored in spam, prints Howdy if 2 is stored in spam, and prints\n",
        "Greetings! if anything else is stored in spam."
      ],
      "metadata": {
        "id": "A3gOrNtfnvxW"
      }
    },
    {
      "cell_type": "code",
      "source": [
        "spam  = int(input(\"value stored : \"))\n",
        "if spam == 1:\n",
        "  print(\"hello\")\n",
        "elif spam == 2:\n",
        "  print(\"greetings!\")\n",
        "else:\n",
        "  print(\"spam\")"
      ],
      "metadata": {
        "colab": {
          "base_uri": "https://localhost:8080/"
        },
        "id": "64jfxYp3ncD6",
        "outputId": "e5205d59-21b0-466a-fb60-d3d0407dbbf0"
      },
      "execution_count": 5,
      "outputs": [
        {
          "output_type": "stream",
          "name": "stdout",
          "text": [
            "value stored : 3\n",
            "spam\n"
          ]
        }
      ]
    },
    {
      "cell_type": "markdown",
      "source": [
        "9.If your programme is stuck in an endless loop, what keys you’ll press?"
      ],
      "metadata": {
        "id": "r8a_AlpdoUKR"
      }
    },
    {
      "cell_type": "markdown",
      "source": [
        "ans = to break the endless loop ctrl + c is pressed"
      ],
      "metadata": {
        "id": "1DW839nTocZI"
      }
    },
    {
      "cell_type": "markdown",
      "source": [
        "10. How can you tell the difference between break and continue?"
      ],
      "metadata": {
        "id": "72isSmi6okaz"
      }
    },
    {
      "cell_type": "markdown",
      "source": [
        "ans = The main difference between both the statements is that when break keyword comes, it terminates the execution of the current loop and passes the control over the next loop or main body, whereas when continue keyword is encountered, it skips the current iteration and executes the very next iteration in the loop."
      ],
      "metadata": {
        "id": "S8iL90Ibosk1"
      }
    },
    {
      "cell_type": "code",
      "source": [
        "n =10\n",
        "for i in range(n):\n",
        "  if i == 7:\n",
        "    break\n",
        "  print(i)"
      ],
      "metadata": {
        "colab": {
          "base_uri": "https://localhost:8080/"
        },
        "id": "CyjhjLFeoOt0",
        "outputId": "7f155d43-ad1c-4da7-d7d0-9f3ec68e0593"
      },
      "execution_count": 7,
      "outputs": [
        {
          "output_type": "stream",
          "name": "stdout",
          "text": [
            "0\n",
            "1\n",
            "2\n",
            "3\n",
            "4\n",
            "5\n",
            "6\n"
          ]
        }
      ]
    },
    {
      "cell_type": "code",
      "source": [
        "n =10\n",
        "for i in range(n):\n",
        "  if i == 7:\n",
        "    continue\n",
        "  print(i)"
      ],
      "metadata": {
        "colab": {
          "base_uri": "https://localhost:8080/"
        },
        "id": "pLfUnrUzphy1",
        "outputId": "a2b8ae76-5e07-42e4-f69f-49e171d9ef95"
      },
      "execution_count": 8,
      "outputs": [
        {
          "output_type": "stream",
          "name": "stdout",
          "text": [
            "0\n",
            "1\n",
            "2\n",
            "3\n",
            "4\n",
            "5\n",
            "6\n",
            "8\n",
            "9\n"
          ]
        }
      ]
    },
    {
      "cell_type": "markdown",
      "source": [
        "10. In a for loop, what is the difference between range(10), range(0, 10), and range(0, 10, 1)?"
      ],
      "metadata": {
        "id": "Ef_kTHvKpqmH"
      }
    },
    {
      "cell_type": "markdown",
      "source": [
        "ans. In the first example only one point is given whic will be the last point through which value is interated.\n",
        "\n",
        "In the second example start and end point are defined so values will be iterated between these points.\n",
        "\n",
        "In the 3rd example start end and jump places are specified so values will be iterated through these points considering the jump.\n",
        "\n"
      ],
      "metadata": {
        "id": "ejrRXosEqK5I"
      }
    },
    {
      "cell_type": "code",
      "source": [
        "for i in range(10):\n",
        "  print(i)"
      ],
      "metadata": {
        "colab": {
          "base_uri": "https://localhost:8080/"
        },
        "id": "lYd8GBusppAl",
        "outputId": "411505ce-127f-4501-8c27-f8c1aeed0202"
      },
      "execution_count": 11,
      "outputs": [
        {
          "output_type": "stream",
          "name": "stdout",
          "text": [
            "0 \r\n",
            "1 \r\n",
            "2 \r\n",
            "3 \r\n",
            "4 \r\n",
            "5 \r\n",
            "6 \r\n",
            "7 \r\n",
            "8 \r\n",
            "9 \r\n"
          ]
        }
      ]
    },
    {
      "cell_type": "code",
      "source": [
        "for i in range(0,10):\n",
        "  print(i)"
      ],
      "metadata": {
        "colab": {
          "base_uri": "https://localhost:8080/"
        },
        "id": "8W-pjRJtp1oQ",
        "outputId": "38bbed7e-1b1e-4a47-d109-3f38dc6f491c"
      },
      "execution_count": 12,
      "outputs": [
        {
          "output_type": "stream",
          "name": "stdout",
          "text": [
            "0\n",
            "1\n",
            "2\n",
            "3\n",
            "4\n",
            "5\n",
            "6\n",
            "7\n",
            "8\n",
            "9\n"
          ]
        }
      ]
    },
    {
      "cell_type": "code",
      "source": [
        "for i in range(0,10,1):\n",
        "  print(i)"
      ],
      "metadata": {
        "colab": {
          "base_uri": "https://localhost:8080/"
        },
        "id": "0jESunI_qDfP",
        "outputId": "ffe548ea-27b3-4b81-98bf-dea7e1988f05"
      },
      "execution_count": 13,
      "outputs": [
        {
          "output_type": "stream",
          "name": "stdout",
          "text": [
            "0\n",
            "1\n",
            "2\n",
            "3\n",
            "4\n",
            "5\n",
            "6\n",
            "7\n",
            "8\n",
            "9\n"
          ]
        }
      ]
    },
    {
      "cell_type": "markdown",
      "source": [
        "12. Write a short program that prints the numbers 1 to 10 using a for loop. Then write an equivalent\n",
        "program that prints the numbers 1 to 10 using a while loop."
      ],
      "metadata": {
        "id": "C7Z67NzRsLV8"
      }
    },
    {
      "cell_type": "code",
      "source": [
        "n= 11\n",
        "\n",
        "for i in range(n):\n",
        "  print(i)"
      ],
      "metadata": {
        "colab": {
          "base_uri": "https://localhost:8080/"
        },
        "id": "rHhL-WDwsRqR",
        "outputId": "98de2355-f53c-45b3-8f32-a59739b4923c"
      },
      "execution_count": 16,
      "outputs": [
        {
          "output_type": "stream",
          "name": "stdout",
          "text": [
            "0\n",
            "1\n",
            "2\n",
            "3\n",
            "4\n",
            "5\n",
            "6\n",
            "7\n",
            "8\n",
            "9\n",
            "10\n"
          ]
        }
      ]
    },
    {
      "cell_type": "code",
      "source": [
        "a=0\n",
        "b=11\n",
        "\n",
        "\n",
        "while a<b:\n",
        "  print(a)\n",
        "  a = a+1"
      ],
      "metadata": {
        "colab": {
          "base_uri": "https://localhost:8080/"
        },
        "id": "89roC-nVqIsX",
        "outputId": "25da5a61-bcda-4837-b8a0-30f22413963d"
      },
      "execution_count": 17,
      "outputs": [
        {
          "output_type": "stream",
          "name": "stdout",
          "text": [
            "0\n",
            "1\n",
            "2\n",
            "3\n",
            "4\n",
            "5\n",
            "6\n",
            "7\n",
            "8\n",
            "9\n",
            "10\n"
          ]
        }
      ]
    },
    {
      "cell_type": "markdown",
      "source": [
        "13. If you had a function named bacon() inside a module named spam, how would you call it after\n",
        "importing spam?"
      ],
      "metadata": {
        "id": "vz2-Ek3psxwQ"
      }
    },
    {
      "cell_type": "code",
      "source": [
        "f = open(\"spam.py\", 'w+')"
      ],
      "metadata": {
        "id": "0c2C1yRssp2-"
      },
      "execution_count": 37,
      "outputs": []
    },
    {
      "cell_type": "code",
      "source": [
        "import spam\n"
      ],
      "metadata": {
        "id": "GtVWoGxOs-qn"
      },
      "execution_count": 38,
      "outputs": []
    },
    {
      "cell_type": "code",
      "source": [
        ""
      ],
      "metadata": {
        "id": "2ZhVprvrtZ6h"
      },
      "execution_count": null,
      "outputs": []
    }
  ]
}