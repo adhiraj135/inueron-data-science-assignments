{
  "nbformat": 4,
  "nbformat_minor": 0,
  "metadata": {
    "colab": {
      "name": "python basic assignment 1.ipynb",
      "provenance": [],
      "collapsed_sections": []
    },
    "kernelspec": {
      "name": "python3",
      "display_name": "Python 3"
    },
    "language_info": {
      "name": "python"
    }
  },
  "cells": [
    {
      "cell_type": "markdown",
      "source": [
        "1) \n",
        "In the below elements which of them are values or an \n",
        "expression? eg:- values can be\n",
        "integer or string and expressions will be mathematical operators.\n"
      ],
      "metadata": {
        "id": "sBPiIU2-lnmy"
      }
    },
    {
      "cell_type": "markdown",
      "source": [
        "ans -- * is a expression\n",
        "\n",
        "'hello\" is a value(str)\n",
        "\n",
        "-87.8 is a value\n",
        "\n",
        "-is a expression\n",
        "\n",
        "/ is a expression\n",
        "\n",
        "+is a expression\n",
        "\n",
        "6 is a value\n",
        "\n",
        "\n",
        "\n"
      ],
      "metadata": {
        "id": "0qQc1Sajl13E"
      }
    },
    {
      "cell_type": "markdown",
      "source": [
        "2) What is the difference between string and variable?"
      ],
      "metadata": {
        "id": "a0bRkejUmsvQ"
      }
    },
    {
      "cell_type": "markdown",
      "source": [
        "A string is any series of characters that are interpreted literally by a script.string is a datatype which is used to represent text type data.for eg- \"datascience\", \"inueron\"\n",
        "\n",
        "A Python variable is a reserved memory location to store values. Variables are used to store data, they take memory space based on the type of value we assigning to them. for eg-\n",
        "\n",
        "a,b = 50, \"data\". in this a and b are variables storind datatypes 50 int and data str respectively.\n"
      ],
      "metadata": {
        "id": "RDeZ10-QnSA2"
      }
    },
    {
      "cell_type": "markdown",
      "source": [
        "3) Describe three different data types."
      ],
      "metadata": {
        "id": "wUKyJL4dpOF8"
      }
    },
    {
      "cell_type": "markdown",
      "source": [
        "ans- following are the 3 data types in python-\n",
        "\n",
        "a)numeric data type- 1. integer represented by int. eg -2,6,8990\n",
        "                   \n",
        "                   2. complex represented by complex. eg - 4+6j\n",
        "                   \n",
        "                   3. float represented by float. eg- 3.14,56.7\n",
        "\n",
        "b)boolean data type- these represent one of the 2 values i.e True or False\n",
        "\n",
        "c)sequence data type- 1. string represented by str eg- \"name\",  \n",
        "                      \"dattype\"\n",
        "                    \n",
        "                    2. Lists are used to store multiple items in a single variable. eg- l = [3, \"ad\", 4+6j, True]\n",
        "                    \n",
        "                    3. tuples are used to store multiple items in a single variable.eg - t = (5,\"in\",False) "
      ],
      "metadata": {
        "id": "5ir8uuOiro3O"
      }
    },
    {
      "cell_type": "markdown",
      "source": [
        "4)What is an expression made up of? What do all expressions do?"
      ],
      "metadata": {
        "id": "qoE-vwhPsPx6"
      }
    },
    {
      "cell_type": "markdown",
      "source": [
        "ans= An expression is a combination of operators and operands that is interpreted to produce some other value.\n",
        "+=Addition\n",
        "\n",
        "– =\tSubtraction\n",
        "\n",
        "*=Multiplication\n",
        "\n",
        "/\t=\tDivision\n",
        "\n",
        "//\t=\tQuotient\n",
        "\n",
        "%\t=\tRemainder\n",
        "** = Exponentiation"
      ],
      "metadata": {
        "id": "b2TUnAF0sbRr"
      }
    },
    {
      "cell_type": "markdown",
      "source": [
        "5)This assignment statements, like spam = 10. What is the difference between an\n",
        "expression and a statement?"
      ],
      "metadata": {
        "id": "oI6IBEFctmo3"
      }
    },
    {
      "cell_type": "markdown",
      "source": [
        "ans = Statements represent an action or command e.g print statements, assignment statements. \n",
        "\n",
        "Expression is a combination of variables, operations and values that yields a result value"
      ],
      "metadata": {
        "id": "5Pd9gJ6uR-b9"
      }
    },
    {
      "cell_type": "markdown",
      "source": [
        "6)After running the following code, what does the variable bacon contain?\n",
        "\n",
        "bacon = 22\n",
        "\n",
        "bacon + 1\n"
      ],
      "metadata": {
        "id": "1xQ148r4SWfn"
      }
    },
    {
      "cell_type": "code",
      "source": [
        "#ans\n",
        "bacon= 22\n",
        "bacon +1"
      ],
      "metadata": {
        "colab": {
          "base_uri": "https://localhost:8080/"
        },
        "id": "3hSMEjvISeNA",
        "outputId": "12b5c54c-0386-4298-e4e1-613bff9b04d8"
      },
      "execution_count": 1,
      "outputs": [
        {
          "output_type": "execute_result",
          "data": {
            "text/plain": [
              "23"
            ]
          },
          "metadata": {},
          "execution_count": 1
        }
      ]
    },
    {
      "cell_type": "markdown",
      "source": [
        "7) 7. What should the values of the following two terms be?\n",
        "\n",
        "'spam' +'spamspam'\n",
        "\n",
        "'spam' * 3\n",
        "\n"
      ],
      "metadata": {
        "id": "tkTYz8fgT0uW"
      }
    },
    {
      "cell_type": "code",
      "source": [
        "#ans \n",
        "a='spam' +'spamspam'\n",
        "b= 'spam' * 3\n",
        "print(a)\n",
        "print(b)"
      ],
      "metadata": {
        "colab": {
          "base_uri": "https://localhost:8080/"
        },
        "id": "htSjHugzUKtV",
        "outputId": "abad1bfa-daf6-498c-bca7-015f061efb69"
      },
      "execution_count": 7,
      "outputs": [
        {
          "output_type": "stream",
          "name": "stdout",
          "text": [
            "spamspamspam\n",
            "spamspamspam\n"
          ]
        }
      ]
    },
    {
      "cell_type": "markdown",
      "source": [
        "8) Why is eggs a valid variable name while 100 is invalid?"
      ],
      "metadata": {
        "id": "ocBYIrmCSvuK"
      }
    },
    {
      "cell_type": "markdown",
      "source": [
        "ans= a variable name cannot start from numerical value but the value can be added after the alphabet used to create a variable"
      ],
      "metadata": {
        "id": "YPVlHaqTS5h0"
      }
    },
    {
      "cell_type": "code",
      "source": [
        "1a = \"adhi\""
      ],
      "metadata": {
        "colab": {
          "base_uri": "https://localhost:8080/",
          "height": 130
        },
        "id": "GBJwzOksTHQJ",
        "outputId": "39503f55-458e-4095-ae6a-2bdbe48bd0a9"
      },
      "execution_count": 2,
      "outputs": [
        {
          "output_type": "error",
          "ename": "SyntaxError",
          "evalue": "ignored",
          "traceback": [
            "\u001b[0;36m  File \u001b[0;32m\"<ipython-input-2-a40259169cda>\"\u001b[0;36m, line \u001b[0;32m1\u001b[0m\n\u001b[0;31m    1a = \"adhi\"\u001b[0m\n\u001b[0m     ^\u001b[0m\n\u001b[0;31mSyntaxError\u001b[0m\u001b[0;31m:\u001b[0m invalid syntax\n"
          ]
        }
      ]
    },
    {
      "cell_type": "code",
      "source": [
        "a1= \"adhi\""
      ],
      "metadata": {
        "id": "jtIKlzdBTKFC"
      },
      "execution_count": 3,
      "outputs": []
    },
    {
      "cell_type": "markdown",
      "source": [
        "9) What three functions can be used to get the integer, floating-point number, or string\n",
        "version of a value?"
      ],
      "metadata": {
        "id": "2tL81jQTTrZf"
      }
    },
    {
      "cell_type": "markdown",
      "source": [
        "ans= the functions are int() , float() and str() respectively"
      ],
      "metadata": {
        "id": "KmHMCVFUU2sB"
      }
    },
    {
      "cell_type": "markdown",
      "source": [
        "10)Why does this expression cause an error? How can you fix it?\n",
        "\n",
        "'i have eaten' + 99+ 'burittos'"
      ],
      "metadata": {
        "id": "gZGb-y8eVHqq"
      }
    },
    {
      "cell_type": "code",
      "source": [
        "#it causes an error due to the fact that 2 different data types cannot be added and it can be fixed using type conversion\n",
        "'i have eaten ' + str(99) + ' burittos'"
      ],
      "metadata": {
        "colab": {
          "base_uri": "https://localhost:8080/",
          "height": 36
        },
        "id": "pdsimoeaVXkJ",
        "outputId": "61dcd880-9dc5-4d77-c4b8-593c4336c0a5"
      },
      "execution_count": 10,
      "outputs": [
        {
          "output_type": "execute_result",
          "data": {
            "text/plain": [
              "'i have eaten 99 burittos'"
            ],
            "application/vnd.google.colaboratory.intrinsic+json": {
              "type": "string"
            }
          },
          "metadata": {},
          "execution_count": 10
        }
      ]
    },
    {
      "cell_type": "code",
      "source": [
        ""
      ],
      "metadata": {
        "id": "1zd63xs7V7iZ"
      },
      "execution_count": null,
      "outputs": []
    }
  ]
}