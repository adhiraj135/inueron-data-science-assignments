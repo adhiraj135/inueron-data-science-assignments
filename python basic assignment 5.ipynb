{
  "nbformat": 4,
  "nbformat_minor": 0,
  "metadata": {
    "colab": {
      "name": "python basic assignment 5",
      "provenance": []
    },
    "kernelspec": {
      "name": "python3",
      "display_name": "Python 3"
    },
    "language_info": {
      "name": "python"
    }
  },
  "cells": [
    {
      "cell_type": "markdown",
      "source": [
        "1. What does an empty dictionary&#39;s code look like?"
      ],
      "metadata": {
        "id": "e0Vb6x3dSNsq"
      }
    },
    {
      "cell_type": "markdown",
      "source": [
        "ans = In the empty dcitionary code there is no key value pair. hence it looks like this {}."
      ],
      "metadata": {
        "id": "r34cnc0_SSBy"
      }
    },
    {
      "cell_type": "markdown",
      "source": [
        "2. What is the value of a dictionary value with the key 'foo'and the value 42?"
      ],
      "metadata": {
        "id": "I3326_O1SuPd"
      }
    },
    {
      "cell_type": "code",
      "source": [
        "d = {'foo': 42}\n",
        "d.values()"
      ],
      "metadata": {
        "colab": {
          "base_uri": "https://localhost:8080/"
        },
        "id": "I0gS5oa8S6Ed",
        "outputId": "da45a429-2738-4a3e-960d-3bdb58c2b5cb"
      },
      "execution_count": 2,
      "outputs": [
        {
          "output_type": "execute_result",
          "data": {
            "text/plain": [
              "dict_values([42])"
            ]
          },
          "metadata": {},
          "execution_count": 2
        }
      ]
    },
    {
      "cell_type": "markdown",
      "source": [
        "3. What is the most significant distinction between a dictionary and a list?"
      ],
      "metadata": {
        "id": "kQq-0DWQTJns"
      }
    },
    {
      "cell_type": "markdown",
      "source": [
        "asn=  in list the elements in it can be accessed through indice but in dictionary they are present in key value pairs so they can be accessed through them only."
      ],
      "metadata": {
        "id": "h95MuUwXThkt"
      }
    },
    {
      "cell_type": "markdown",
      "source": [
        "4. What happens if you try to access spam[&#39;foo&#39;] if spam is {'bar': 100}?"
      ],
      "metadata": {
        "id": "m1r-2sKsTzVy"
      }
    },
    {
      "cell_type": "code",
      "source": [
        "spam = {'bar': 100}\n",
        "spam['foo']"
      ],
      "metadata": {
        "colab": {
          "base_uri": "https://localhost:8080/",
          "height": 182
        },
        "id": "YNPnUEDgS9jj",
        "outputId": "e7d17874-c9fe-4831-d20a-457e1f3959c1"
      },
      "execution_count": 3,
      "outputs": [
        {
          "output_type": "error",
          "ename": "KeyError",
          "evalue": "ignored",
          "traceback": [
            "\u001b[0;31m---------------------------------------------------------------------------\u001b[0m",
            "\u001b[0;31mKeyError\u001b[0m                                  Traceback (most recent call last)",
            "\u001b[0;32m<ipython-input-3-56a8e50c7ff8>\u001b[0m in \u001b[0;36m<module>\u001b[0;34m()\u001b[0m\n\u001b[1;32m      1\u001b[0m \u001b[0mspam\u001b[0m \u001b[0;34m=\u001b[0m \u001b[0;34m{\u001b[0m\u001b[0;34m'bar'\u001b[0m\u001b[0;34m:\u001b[0m \u001b[0;36m100\u001b[0m\u001b[0;34m}\u001b[0m\u001b[0;34m\u001b[0m\u001b[0;34m\u001b[0m\u001b[0m\n\u001b[0;32m----> 2\u001b[0;31m \u001b[0mspam\u001b[0m\u001b[0;34m[\u001b[0m\u001b[0;34m'foo'\u001b[0m\u001b[0;34m]\u001b[0m\u001b[0;34m\u001b[0m\u001b[0;34m\u001b[0m\u001b[0m\n\u001b[0m",
            "\u001b[0;31mKeyError\u001b[0m: 'foo'"
          ]
        }
      ]
    },
    {
      "cell_type": "markdown",
      "source": [
        "5. If a dictionary is stored in spam, what is the difference between the expressions &#39;cat&#39; in spam and\n",
        "&#39;cat&#39; in spam.keys()?"
      ],
      "metadata": {
        "id": "7o_4MYWJUcED"
      }
    },
    {
      "cell_type": "code",
      "source": [
        "#there is no difference as in spam it refers to being a key with value 318 but spam.keys() it refers to being a key in the entire dictionary\n",
        "spam = {'cat': 318}\n",
        "spam.keys()"
      ],
      "metadata": {
        "colab": {
          "base_uri": "https://localhost:8080/"
        },
        "id": "9IYhbISgUOTf",
        "outputId": "77e51ce7-31bb-4b4f-9b5f-2f7ae44c5dfc"
      },
      "execution_count": 5,
      "outputs": [
        {
          "output_type": "execute_result",
          "data": {
            "text/plain": [
              "dict_keys(['cat'])"
            ]
          },
          "metadata": {},
          "execution_count": 5
        }
      ]
    },
    {
      "cell_type": "markdown",
      "source": [
        "6. If a dictionary is stored in spam, what is the difference between the expressions &#39;cat&#39; in spam and\n",
        "&#39;cat&#39; in spam.values()?"
      ],
      "metadata": {
        "id": "SM8Vg4VwXJBr"
      }
    },
    {
      "cell_type": "code",
      "source": [
        "#'cat' in spam checks whether there is a 'cat' key in the dictionary, while 'cat' in spam. values() checks whether there is a value 'cat' for one of the keys in spam\n",
        "spam ={'cat': 568, 787:'cat'}\n",
        "spam.keys()\n",
        "spam.values()"
      ],
      "metadata": {
        "colab": {
          "base_uri": "https://localhost:8080/"
        },
        "id": "SIbgIjTcXtHR",
        "outputId": "5ddcea0d-a6af-446b-9947-580e88d24465"
      },
      "execution_count": 7,
      "outputs": [
        {
          "output_type": "execute_result",
          "data": {
            "text/plain": [
              "dict_values([568, 'cat'])"
            ]
          },
          "metadata": {},
          "execution_count": 7
        }
      ]
    },
    {
      "cell_type": "markdown",
      "source": [
        "7. What is a shortcut for the following code?\n",
        "\n",
        "if &#39;color&#39; not in spam:\n",
        "\n",
        "spam[&#39;color&#39;] = &#39;black&#39;"
      ],
      "metadata": {
        "id": "1CpfsL70YJWU"
      }
    },
    {
      "cell_type": "code",
      "source": [
        "spam ={\"car\": 7879}\n",
        "if spam.keys() != 'color':\n",
        "  spam['color']= 'black'\n"
      ],
      "metadata": {
        "id": "QG2zzg4bYnK2"
      },
      "execution_count": 24,
      "outputs": []
    },
    {
      "cell_type": "markdown",
      "source": [
        "8. How do you &quot;pretty print&quot; dictionary values using which module and function?"
      ],
      "metadata": {
        "id": "BUtE3v_cbgxL"
      }
    },
    {
      "cell_type": "code",
      "source": [
        "f = open(\"test.py\", \"w+\")"
      ],
      "metadata": {
        "id": "NXFVJjWyY3vR"
      },
      "execution_count": 38,
      "outputs": []
    },
    {
      "cell_type": "code",
      "source": [
        "import test"
      ],
      "metadata": {
        "id": "EcTJL8vHbtX1"
      },
      "execution_count": 39,
      "outputs": []
    },
    {
      "cell_type": "code",
      "source": [
        "test.dictionary(name= \"abc\")"
      ],
      "metadata": {
        "colab": {
          "base_uri": "https://localhost:8080/"
        },
        "id": "g8K6xC6NbzkN",
        "outputId": "43efe751-8a96-4bcc-cd1a-cff47abcf330"
      },
      "execution_count": 40,
      "outputs": [
        {
          "output_type": "execute_result",
          "data": {
            "text/plain": [
              "{'name': 'abc'}"
            ]
          },
          "metadata": {},
          "execution_count": 40
        }
      ]
    },
    {
      "cell_type": "code",
      "source": [
        ""
      ],
      "metadata": {
        "id": "lB6hBJ6Lb328"
      },
      "execution_count": null,
      "outputs": []
    }
  ]
}