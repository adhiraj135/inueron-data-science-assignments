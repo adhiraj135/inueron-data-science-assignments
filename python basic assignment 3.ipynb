{
  "nbformat": 4,
  "nbformat_minor": 0,
  "metadata": {
    "colab": {
      "name": "python basic assignment 3",
      "provenance": []
    },
    "kernelspec": {
      "name": "python3",
      "display_name": "Python 3"
    },
    "language_info": {
      "name": "python"
    }
  },
  "cells": [
    {
      "cell_type": "markdown",
      "source": [
        "1. Why are functions advantageous to have in your programs?"
      ],
      "metadata": {
        "id": "zjBbn2l9vCzl"
      }
    },
    {
      "cell_type": "markdown",
      "source": [
        "ans=the advantages of function are as follows:-\n",
        "\n",
        "1.It helps to divide the large programs into small groups so that we can read the code, and debug the program faster and better.\n",
        "\n",
        "2.Python Functions stop us from writing the same logic various times. We can bind the logic in one def and then call the same over and over.\n",
        "\n",
        "3.Many persons can work on the same program by assigning different methods to each of them.\n",
        "\n",
        "4.It encourages us to call the same method with different inputs over multiple times."
      ],
      "metadata": {
        "id": "sI4RkQcNvY18"
      }
    },
    {
      "cell_type": "markdown",
      "source": [
        "2. When does the code in a function run: when it's specified or when it's called?"
      ],
      "metadata": {
        "id": "9NGm7b3CvtAn"
      }
    },
    {
      "cell_type": "markdown",
      "source": [
        "ans= A funtion is called by calling the function and specifying the inputs according to the code written.\n",
        "for eg def add(a,b):\n",
        "          return a*b\n",
        "\n",
        "add(4,5)"
      ],
      "metadata": {
        "id": "fBJNBg3ZwWPE"
      }
    },
    {
      "cell_type": "markdown",
      "source": [
        "3. What statement creates a function?"
      ],
      "metadata": {
        "id": "_CDU9EAXwcF7"
      }
    },
    {
      "cell_type": "markdown",
      "source": [
        "ans = def statement creates a function."
      ],
      "metadata": {
        "id": "kpy4AjPswfNX"
      }
    },
    {
      "cell_type": "markdown",
      "source": [
        "4. What is the difference between a function and a function call?"
      ],
      "metadata": {
        "id": "ZzuCZbU3wfT9"
      }
    },
    {
      "cell_type": "markdown",
      "source": [
        "A function is a block of code that does a particular operation and returns a result. It usually accepts inputs as parameters and returns a result. \n",
        "\n",
        "E.g:\n",
        "def add(a,b)\n",
        "return a+ b\n",
        "\n",
        "A function call is the code used to pass control to a function.\n",
        "\n",
        "E.g.:\n",
        "\n",
        "b = add(8,6)\n",
        "\n",
        "Now b will have the value 14."
      ],
      "metadata": {
        "id": "NtfoD6NkxR0P"
      }
    },
    {
      "cell_type": "markdown",
      "source": [
        "5. How many global scopes are there in a Python program? How many local scopes?"
      ],
      "metadata": {
        "id": "uVWbcGtRxgGY"
      }
    },
    {
      "cell_type": "markdown",
      "source": [
        "ans = The scope of global variables is the entire program whereas the scope of local variable is limited to the function where it is defined."
      ],
      "metadata": {
        "id": "XHQkXZfs0Amp"
      }
    },
    {
      "cell_type": "markdown",
      "source": [
        "6. What happens to variables in a local scope when the function call returns?"
      ],
      "metadata": {
        "id": "Thqc6hnO0kUw"
      }
    },
    {
      "cell_type": "markdown",
      "source": [
        "ans= the local scope is specified to only that particular function only not to the entire program and they respond according to the parameters passed inside the function\n",
        "\n",
        "for eg\n",
        "\n",
        "a= 99\n",
        "\n",
        "def func(b):\n",
        " c= a+b\n",
        " return c\n",
        "\n",
        "In the above code a, func are global scope and a,b are local scope so when the function is called the return will be given be given if only a parameter is specified is the function i.e b\n"
      ],
      "metadata": {
        "id": "ltdCqjr10rG_"
      }
    },
    {
      "cell_type": "markdown",
      "source": [
        "7. What is the concept of a return value? Is it possible to have a return value in an expression?\n"
      ],
      "metadata": {
        "id": "nsIf8wHP0sQd"
      }
    },
    {
      "cell_type": "markdown",
      "source": [
        "ans = A return is a value that a function returns to the calling script or function when it completes its task. the return calue can be in expression for eg :-"
      ],
      "metadata": {
        "id": "U6VatVqo9cvX"
      }
    },
    {
      "cell_type": "code",
      "source": [
        "def func(a):\n",
        "  return a*2\n",
        "\n",
        "func(6)"
      ],
      "metadata": {
        "id": "H1vM4v79z-nl",
        "colab": {
          "base_uri": "https://localhost:8080/"
        },
        "outputId": "ebcaecd3-a7a6-497d-cd9c-aa7eb6ecc68e"
      },
      "execution_count": 2,
      "outputs": [
        {
          "output_type": "execute_result",
          "data": {
            "text/plain": [
              "12"
            ]
          },
          "metadata": {},
          "execution_count": 2
        }
      ]
    },
    {
      "cell_type": "markdown",
      "source": [
        "8. If a function does not have a return statement, what is the return value of a call to that function?"
      ],
      "metadata": {
        "id": "Z6RtrGJ190zs"
      }
    },
    {
      "cell_type": "markdown",
      "source": [
        "ans = If a function doesn't have a return statement, it returns None"
      ],
      "metadata": {
        "id": "zab_UWkB-Gpc"
      }
    },
    {
      "cell_type": "markdown",
      "source": [
        "9. How do you make a function variable refer to the global variable?"
      ],
      "metadata": {
        "id": "dExYgggb-Mn9"
      }
    },
    {
      "cell_type": "markdown",
      "source": [
        "ans = function variable can be referred to the global variable by creating a variable outside of a function, and use it inside the function creating a variable inside a function, with the same name as the global variable."
      ],
      "metadata": {
        "id": "yXNnrEyg-cuV"
      }
    },
    {
      "cell_type": "markdown",
      "source": [
        "10. What is the data type of None?"
      ],
      "metadata": {
        "id": "2A9Llcr2-vCu"
      }
    },
    {
      "cell_type": "code",
      "source": [
        "type(None)"
      ],
      "metadata": {
        "colab": {
          "base_uri": "https://localhost:8080/"
        },
        "id": "Y4qHAACu9aZm",
        "outputId": "2a0d90bc-3304-4ec7-c2e2-e6dbab1106b4"
      },
      "execution_count": 4,
      "outputs": [
        {
          "output_type": "execute_result",
          "data": {
            "text/plain": [
              "NoneType"
            ]
          },
          "metadata": {},
          "execution_count": 4
        }
      ]
    },
    {
      "cell_type": "markdown",
      "source": [
        "11. What does the sentence import areallyourpetsnamederic do?"
      ],
      "metadata": {
        "id": "78sOcdSt-7A2"
      }
    },
    {
      "cell_type": "markdown",
      "source": [
        "ans = it will import a module named as areallyourpetsnamederic if it exists"
      ],
      "metadata": {
        "id": "E1Idy7vu_PiP"
      }
    },
    {
      "cell_type": "markdown",
      "source": [
        "12. If you had a bacon() feature in a spam module, what would you call it after importing spam?"
      ],
      "metadata": {
        "id": "B49Bl0p4_cqb"
      }
    },
    {
      "cell_type": "markdown",
      "source": [
        "ans = In this case after importing spam as a module it will called using spam.bacon().\n",
        "\n",
        "\n"
      ],
      "metadata": {
        "id": "717YwhkA_kxT"
      }
    },
    {
      "cell_type": "markdown",
      "source": [
        "13. What can you do to save a programme from crashing if it encounters an error?"
      ],
      "metadata": {
        "id": "rDPJh446_9fc"
      }
    },
    {
      "cell_type": "markdown",
      "source": [
        "ANS= It can be done using exceptional handling using try and except blocks"
      ],
      "metadata": {
        "id": "4VtIGKGkAYiD"
      }
    },
    {
      "cell_type": "markdown",
      "source": [
        "14. What is the purpose of the try clause? What is the purpose of the except clause?"
      ],
      "metadata": {
        "id": "CFa1n2ilAdnb"
      }
    },
    {
      "cell_type": "markdown",
      "source": [
        "ans = The try block lets you test a block of code for errors.  in this block the code will execute if it doesnot have any error and if there is error except clock will be executed.\n",
        "\n",
        "The except block lets you handle the error in the preceeding try block."
      ],
      "metadata": {
        "id": "1Kq1dj0kApJt"
      }
    },
    {
      "cell_type": "code",
      "source": [
        ""
      ],
      "metadata": {
        "id": "S9hnzJBK_bWc"
      },
      "execution_count": null,
      "outputs": []
    }
  ]
}