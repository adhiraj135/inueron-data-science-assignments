{
 "cells": [
  {
   "cell_type": "markdown",
   "metadata": {},
   "source": [
    "1. What is the result of the code, and why?\n",
    "def func(a, b=6, c=8):\n",
    "print(a, b, c)\n",
    "func(1, 2)"
   ]
  },
  {
   "cell_type": "code",
   "execution_count": 1,
   "metadata": {},
   "outputs": [
    {
     "name": "stdout",
     "output_type": "stream",
     "text": [
      "1 2 8\n"
     ]
    }
   ],
   "source": [
    "def func(a, b=6, c=8): \n",
    "    print(a,b,c)\n",
    "    \n",
    "func(1,2)"
   ]
  },
  {
   "cell_type": "markdown",
   "metadata": {},
   "source": [
    "in this code value of b and c is already assigned but when inside the function different value to b is given hence when we call this fucntion a and b valueis already given inside the function and for c the default value will be assigned."
   ]
  },
  {
   "cell_type": "markdown",
   "metadata": {},
   "source": [
    "2. What is the result of this code, and why?\n",
    "def func(a, b, c=5):\n",
    "print(a, b, c)\n",
    "func(1, c=3, b=2)"
   ]
  },
  {
   "cell_type": "code",
   "execution_count": 2,
   "metadata": {},
   "outputs": [
    {
     "name": "stdout",
     "output_type": "stream",
     "text": [
      "1 2 3\n"
     ]
    }
   ],
   "source": [
    "def func(a, b, c=5):\n",
    "    print(a, b, c)\n",
    "func(1, c=3, b=2)"
   ]
  },
  {
   "cell_type": "markdown",
   "metadata": {},
   "source": [
    "in this code a default value of 5 is given to c but when function is called the value assigned is 3 to c and when fucntion this is value gievn to c and for a and b it will be according to function called only"
   ]
  },
  {
   "cell_type": "markdown",
   "metadata": {},
   "source": [
    "3. How about this code: what is its result, and why?\n",
    "def func(a, *pargs):\n",
    "print(a, pargs)\n",
    "func(1, 2, 3)"
   ]
  },
  {
   "cell_type": "code",
   "execution_count": 3,
   "metadata": {},
   "outputs": [
    {
     "name": "stdout",
     "output_type": "stream",
     "text": [
      "1 (2, 3)\n"
     ]
    }
   ],
   "source": [
    "def func(a, *pargs):\n",
    "     print(a, pargs)\n",
    "func(1, 2, 3)"
   ]
  },
  {
   "cell_type": "markdown",
   "metadata": {},
   "source": [
    "*pargs stands for variable length arguments. this format is used when we are not sure about the no of arguments to be passed to a function. all the values under this argument will be stored in a tuple."
   ]
  },
  {
   "cell_type": "markdown",
   "metadata": {},
   "source": [
    "4. What does this code print, and why?\n",
    "def func(a, **kargs):\n",
    "print(a, kargs)\n",
    "func(a=1, c=3, b=2)"
   ]
  },
  {
   "cell_type": "code",
   "execution_count": 4,
   "metadata": {},
   "outputs": [
    {
     "name": "stdout",
     "output_type": "stream",
     "text": [
      "1 {'c': 3, 'b': 2}\n"
     ]
    }
   ],
   "source": [
    "def func(a, **kargs):\n",
    "     print(a, kargs)\n",
    "        \n",
    "func(a=1, c=3, b=2)"
   ]
  },
  {
   "cell_type": "markdown",
   "metadata": {},
   "source": [
    "**kwargs stands for keyword argument. hence in this function a is called separetly and b and c are called inside key word dictionary hence b and c will the keys and 2, 3 will be values "
   ]
  },
  {
   "cell_type": "markdown",
   "metadata": {},
   "source": [
    "5. What gets printed by this, and explain?\n",
    "def func(a, b, c=8, d=5): \n",
    "    print(a, b, c, d)\n",
    "func(1, *(5, 6))"
   ]
  },
  {
   "cell_type": "code",
   "execution_count": 5,
   "metadata": {},
   "outputs": [
    {
     "name": "stdout",
     "output_type": "stream",
     "text": [
      "1 5 6 5\n"
     ]
    }
   ],
   "source": [
    "def func(a, b, c=8, d=5): \n",
    "    print(a, b, c, d)\n",
    "func(1, *(5, 6))"
   ]
  },
  {
   "cell_type": "markdown",
   "metadata": {},
   "source": [
    "in this when function is called *(5,6) will expand and 5 will be assigned to b and 6 to c and a will according to function and d value is defined according to default value 5"
   ]
  },
  {
   "cell_type": "markdown",
   "metadata": {},
   "source": [
    "6. what is the result of this, and explain?\n",
    "def func(a, b, c): \n",
    "     a = 2; b[0] = 'x'; c['a'] = 'y'\n",
    "     l=1; m=[1]; n={'a':0}\n",
    "func(l, m, n)"
   ]
  },
  {
   "cell_type": "code",
   "execution_count": 9,
   "metadata": {},
   "outputs": [
    {
     "data": {
      "text/plain": [
       "(1, ['x'], {'a': 'y'})"
      ]
     },
     "execution_count": 9,
     "metadata": {},
     "output_type": "execute_result"
    }
   ],
   "source": [
    "def func(a, b, c): a = 2; b[0] = 'x'; c['a'] = 'y'\n",
    "l=1; m=[1]; n={'a':0}\n",
    "func(l, m, n)\n",
    "l,m,n"
   ]
  },
  {
   "cell_type": "markdown",
   "metadata": {},
   "source": [
    "in python code can be written in a single line using ; and according this value is modified and output of (1, ['x'], {'a': 'y'}) is given"
   ]
  }
 ],
 "metadata": {
  "kernelspec": {
   "display_name": "Python 3",
   "language": "python",
   "name": "python3"
  },
  "language_info": {
   "codemirror_mode": {
    "name": "ipython",
    "version": 3
   },
   "file_extension": ".py",
   "mimetype": "text/x-python",
   "name": "python",
   "nbconvert_exporter": "python",
   "pygments_lexer": "ipython3",
   "version": "3.7.0"
  }
 },
 "nbformat": 4,
 "nbformat_minor": 2
}
