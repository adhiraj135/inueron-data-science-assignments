{
  "cells": [
    {
      "cell_type": "raw",
      "metadata": {
        "id": "MEQ5JzS5NwgF"
      },
      "source": [
        "1. Make a class called Thing with no contents and print it. Then, create an object called example\n",
        "from this class and also print it. Are the printed values the same or different?"
      ]
    },
    {
      "cell_type": "code",
      "execution_count": null,
      "metadata": {
        "id": "w7G1LJMCNwgV",
        "outputId": "4bbd5c87-6b0d-4847-9e20-0d5fc22c5492"
      },
      "outputs": [
        {
          "name": "stdout",
          "output_type": "stream",
          "text": [
            "<class '__main__.Thing'>\n"
          ]
        }
      ],
      "source": [
        "class Thing:\n",
        "    print(Thing)"
      ]
    },
    {
      "cell_type": "code",
      "execution_count": null,
      "metadata": {
        "id": "i-ULxT-aNwge",
        "outputId": "f993656e-e688-4791-ad3c-a0791036cd3d"
      },
      "outputs": [
        {
          "name": "stdout",
          "output_type": "stream",
          "text": [
            "<__main__.Thing object at 0x0000000005173860>\n"
          ]
        }
      ],
      "source": [
        "example=Thing()\n",
        "print(example)"
      ]
    },
    {
      "cell_type": "raw",
      "metadata": {
        "id": "jsMHh80jNwgh"
      },
      "source": [
        "2. Create a new class called Thing2 and add the value \"abc\" to the letters class attribute. Letters\n",
        "should be printed."
      ]
    },
    {
      "cell_type": "code",
      "execution_count": null,
      "metadata": {
        "id": "nF8_ceQXNwgj"
      },
      "outputs": [],
      "source": [
        "class Thing2:\n",
        "    letters=\"abc\"\n",
        "    "
      ]
    },
    {
      "cell_type": "code",
      "execution_count": null,
      "metadata": {
        "id": "F7pN1SIiNwgm",
        "outputId": "9e8ce693-e7c8-4aaa-d299-6c671553c5ca"
      },
      "outputs": [
        {
          "data": {
            "text/plain": [
              "'abc'"
            ]
          },
          "execution_count": 36,
          "metadata": {},
          "output_type": "execute_result"
        }
      ],
      "source": [
        "Thing2.letters\n"
      ]
    },
    {
      "cell_type": "raw",
      "metadata": {
        "id": "uTMTv-RnNwgo"
      },
      "source": [
        "3. Make yet another class called, of course, Thing3. This time, assign the value 'xyz' to an instance\n",
        "(object) attribute called letters. Print letters. Do you need to make an object from the class to do\n",
        "this?"
      ]
    },
    {
      "cell_type": "code",
      "execution_count": null,
      "metadata": {
        "id": "mIBQiL4fNwgr"
      },
      "outputs": [],
      "source": [
        "class Thing3:\n",
        "    def __init__(self):\n",
        "        self.letters=\"xyz\"\n",
        "    "
      ]
    },
    {
      "cell_type": "code",
      "execution_count": null,
      "metadata": {
        "id": "6uSCLvOrNwgu",
        "outputId": "9400a6a0-750b-495b-cfd7-7b0e7916b42d"
      },
      "outputs": [
        {
          "data": {
            "text/plain": [
              "'xyz'"
            ]
          },
          "execution_count": 46,
          "metadata": {},
          "output_type": "execute_result"
        }
      ],
      "source": [
        "obj=Thing3()\n",
        "obj.letters"
      ]
    },
    {
      "cell_type": "raw",
      "metadata": {
        "id": "85ugTZnmNwgx"
      },
      "source": [
        "4. Create an Element class with the instance attributes name, symbol, and number. Create a class\n",
        "object with the values 'Hydrogen', 'H',1."
      ]
    },
    {
      "cell_type": "code",
      "execution_count": null,
      "metadata": {
        "id": "YMveFVbsNwgz"
      },
      "outputs": [],
      "source": [
        "class Element:\n",
        "    def __init__(self,name,symbol,number):\n",
        "        self.name= name\n",
        "        self.symbol=symbol\n",
        "        self.number=number\n",
        "        \n",
        "    "
      ]
    },
    {
      "cell_type": "code",
      "execution_count": null,
      "metadata": {
        "id": "5JNMM9P5Nwg1",
        "outputId": "6acf01d1-bd7d-472c-baf6-efe7e1e66e0b"
      },
      "outputs": [
        {
          "name": "stdout",
          "output_type": "stream",
          "text": [
            "Hydrogen\n",
            "H\n",
            "1\n"
          ]
        }
      ],
      "source": [
        "element1=Element(\"Hydrogen\",\"H\",1)\n",
        "print(element1.name)\n",
        "print(element1.symbol)\n",
        "print(element1.number)"
      ]
    },
    {
      "cell_type": "raw",
      "metadata": {
        "id": "ukkRtft-Nwg3"
      },
      "source": [
        "5. Make a dictionary with these keys and values: 'name':'Hydrogen', 'symbol': 'H', 'number': 1. Then,\n",
        "create an object called hydrogen from class Element using this dictionary."
      ]
    },
    {
      "cell_type": "code",
      "execution_count": null,
      "metadata": {
        "id": "i3FFrDjwNwg5",
        "outputId": "0ceeb35b-118a-4225-87e4-add8248df5f9"
      },
      "outputs": [
        {
          "name": "stdout",
          "output_type": "stream",
          "text": [
            "Hydrogen\n",
            "H\n",
            "1\n"
          ]
        }
      ],
      "source": [
        "dict={'name':'Hydrogen', 'symbol': 'H', 'number': 1}\n",
        "hydrogen=Element(dict['name'],dict['symbol'],dict['number'])\n",
        "print(hydrogen.name)\n",
        "print(hydrogen.symbol)\n",
        "print(hydrogen.number)\n",
        "\n",
        "\n"
      ]
    },
    {
      "cell_type": "raw",
      "metadata": {
        "id": "cEVW34X2Nwg7"
      },
      "source": [
        "6. For the Element class, define a method called dump() that prints the values of the object’s\n",
        "attributes (name, symbol, and number). Create the hydrogen object from this new definition and\n",
        "use dump() to print its attributes."
      ]
    },
    {
      "cell_type": "code",
      "execution_count": null,
      "metadata": {
        "id": "S7ow1CpTNwg9"
      },
      "outputs": [],
      "source": [
        "class Element:\n",
        "    def __init__(self,name,symbol,number):\n",
        "        self.name= name\n",
        "        self.symbol=symbol\n",
        "        self.number=number\n",
        "    \n",
        "    def dump(self):\n",
        "        print(self.name)\n",
        "        print(self.symbol)\n",
        "        print(self.number)"
      ]
    },
    {
      "cell_type": "code",
      "execution_count": null,
      "metadata": {
        "id": "4ibDvfBCNwg_",
        "outputId": "5655d5ea-aadc-439b-f360-4cafa3b66a2c"
      },
      "outputs": [
        {
          "name": "stdout",
          "output_type": "stream",
          "text": [
            "Hydrogen\n",
            "H\n",
            "1\n"
          ]
        }
      ],
      "source": [
        "hydrogen=Element(\"Hydrogen\",\"H\",1)\n",
        "hydrogen.dump()\n"
      ]
    },
    {
      "cell_type": "raw",
      "metadata": {
        "id": "8JWIArojNwhB"
      },
      "source": [
        "7. Call print(hydrogen). In the definition of Element, change the name of method dump to __str__,\n",
        "create a new hydrogen object, and call print(hydrogen) again."
      ]
    },
    {
      "cell_type": "code",
      "execution_count": null,
      "metadata": {
        "id": "wdGDlagANwhC",
        "outputId": "6becf57d-8411-4408-8ec4-8012c38d6bd2"
      },
      "outputs": [
        {
          "name": "stdout",
          "output_type": "stream",
          "text": [
            "<__main__.Element object at 0x0000000005188CF8>\n"
          ]
        }
      ],
      "source": [
        "print(hydrogen)"
      ]
    },
    {
      "cell_type": "code",
      "execution_count": null,
      "metadata": {
        "id": "G8pKEULKNwhD"
      },
      "outputs": [],
      "source": [
        "class Element:\n",
        "    def __init__(self,name,symbol,number):\n",
        "        self.name= name\n",
        "        self.symbol=symbol\n",
        "        self.number=number\n",
        "        \n",
        "    def __str__(self):\n",
        "        return \"this is the new hydrogen element\"\n",
        "    "
      ]
    },
    {
      "cell_type": "code",
      "execution_count": null,
      "metadata": {
        "id": "jk06yPYaNwhF"
      },
      "outputs": [],
      "source": [
        "hydrogen=Element(\"Hydrogen\",\"H\",1)"
      ]
    },
    {
      "cell_type": "code",
      "execution_count": null,
      "metadata": {
        "id": "KBqveEfYNwhG",
        "outputId": "1c24ee80-f715-4a92-c0a6-c9f91c15278d"
      },
      "outputs": [
        {
          "name": "stdout",
          "output_type": "stream",
          "text": [
            "this is the new hydrogen element\n"
          ]
        }
      ],
      "source": [
        "print(hydrogen)"
      ]
    },
    {
      "cell_type": "raw",
      "metadata": {
        "id": "TSaCcqVENwhH"
      },
      "source": [
        "8. Modify Element to make the attributes name, symbol, and number private. Define a getter\n",
        "property for each to return its value."
      ]
    },
    {
      "cell_type": "code",
      "execution_count": null,
      "metadata": {
        "id": "VR6Ol7C4NwhJ"
      },
      "outputs": [],
      "source": [
        "class Element:\n",
        "    def __init__(self,name,symbol,number):\n",
        "        self.__name= name\n",
        "        self.__symbol=symbol\n",
        "        self.__number=number"
      ]
    },
    {
      "cell_type": "code",
      "execution_count": null,
      "metadata": {
        "id": "ikPP1wmANwhL"
      },
      "outputs": [],
      "source": [
        "nitrogen=Element(\"Nitrogen\",\"N\",1)"
      ]
    },
    {
      "cell_type": "code",
      "execution_count": null,
      "metadata": {
        "id": "vd55m3oXNwhM",
        "outputId": "f6f1badb-240d-493c-ebc9-eb5b0819e043"
      },
      "outputs": [
        {
          "data": {
            "text/plain": [
              "'Nitrogen'"
            ]
          },
          "execution_count": 86,
          "metadata": {},
          "output_type": "execute_result"
        }
      ],
      "source": [
        "nitrogen._Element__name"
      ]
    },
    {
      "cell_type": "code",
      "execution_count": null,
      "metadata": {
        "id": "wDulqTGDNwhN",
        "outputId": "812ba4d8-3036-42a2-b18e-b75615c8452e"
      },
      "outputs": [
        {
          "data": {
            "text/plain": [
              "1"
            ]
          },
          "execution_count": 87,
          "metadata": {},
          "output_type": "execute_result"
        }
      ],
      "source": [
        "nitrogen._Element__number"
      ]
    },
    {
      "cell_type": "code",
      "execution_count": null,
      "metadata": {
        "id": "O1i5TB7nNwhP",
        "outputId": "748ce9a0-e416-4a71-b080-89c1cb987c40"
      },
      "outputs": [
        {
          "data": {
            "text/plain": [
              "'N'"
            ]
          },
          "execution_count": 88,
          "metadata": {},
          "output_type": "execute_result"
        }
      ],
      "source": [
        "nitrogen._Element__symbol"
      ]
    },
    {
      "cell_type": "raw",
      "metadata": {
        "id": "iDqmFKAeNwhQ"
      },
      "source": [
        "9. Define three classes: Bear, Rabbit, and Octothorpe. For each, define only one method: eats(). This\n",
        "should return 'berries' (Bear), 'clover' (Rabbit), or 'campers' (Octothorpe). Create one object from\n",
        "each and print what it eats."
      ]
    },
    {
      "cell_type": "code",
      "execution_count": null,
      "metadata": {
        "id": "K0VPnw0JNwhR"
      },
      "outputs": [],
      "source": [
        "class Bear:\n",
        "    def eats(self):\n",
        "        return 'berries'\n",
        "    \n",
        "class Rabbit:\n",
        "    def eats(self):\n",
        "        return 'clover'\n",
        "\n",
        "class Octothorpe:\n",
        "    def eats(self):\n",
        "        return 'campers'\n",
        "\n",
        "b = Bear()\n",
        "r = Rabbit()\n",
        "o = Octothorpe()\n",
        "        \n",
        "        \n",
        "    \n",
        "    "
      ]
    },
    {
      "cell_type": "code",
      "execution_count": null,
      "metadata": {
        "id": "HFUYuLQVNwhS",
        "outputId": "07c4f0a5-03c2-4958-94d1-19fc99cef60d"
      },
      "outputs": [
        {
          "data": {
            "text/plain": [
              "'berries'"
            ]
          },
          "execution_count": 99,
          "metadata": {},
          "output_type": "execute_result"
        }
      ],
      "source": [
        "b.eats()"
      ]
    },
    {
      "cell_type": "code",
      "execution_count": null,
      "metadata": {
        "id": "jHHwqQqUNwhU",
        "outputId": "e51027a6-4c79-4ec6-e637-f618d738c03b"
      },
      "outputs": [
        {
          "data": {
            "text/plain": [
              "'clover'"
            ]
          },
          "execution_count": 100,
          "metadata": {},
          "output_type": "execute_result"
        }
      ],
      "source": [
        "r.eats()"
      ]
    },
    {
      "cell_type": "code",
      "execution_count": null,
      "metadata": {
        "id": "R3n0XEY2NwhV",
        "outputId": "867d1c4c-29ff-4ae5-dee1-fb1f5d6fac70"
      },
      "outputs": [
        {
          "data": {
            "text/plain": [
              "'campers'"
            ]
          },
          "execution_count": 101,
          "metadata": {},
          "output_type": "execute_result"
        }
      ],
      "source": [
        "o.eats()"
      ]
    },
    {
      "cell_type": "raw",
      "metadata": {
        "id": "AJPI9srcNwhW"
      },
      "source": [
        "Define these classes: Laser, Claw, and SmartPhone. Each has only one method: does(). This returns 'disintegrate' (Laser), 'crush' (Claw), or 'ring' (SmartPhone). Then, define the class Robot that has one instance (object) of each of these. Define a does() method for the Robot that prints what its component objects do."
      ]
    },
    {
      "cell_type": "code",
      "execution_count": 7,
      "metadata": {
        "id": "1LSiErQmNwhX"
      },
      "outputs": [],
      "source": [
        "class Laser:\n",
        "    def does(self):\n",
        "        return 'disintegrate'\n",
        "\n",
        "class Claw:\n",
        "    def does(self):\n",
        "        return 'crush'\n",
        "    \n",
        "class SmartPhone:\n",
        "    def does(self):\n",
        "        return 'ring'\n",
        "\n",
        "class Robot(Laser,Claw,SmartPhone):\n",
        "  def does(self):\n",
        "    return L.does(),c.does(),s.does()\n",
        "    \n",
        "        \n",
        "    "
      ]
    },
    {
      "cell_type": "code",
      "source": [
        "L=Laser()\n",
        "c=Claw()\n",
        "s=SmartPhone()"
      ],
      "metadata": {
        "id": "MyR8NZ5cO2QI"
      },
      "execution_count": 6,
      "outputs": []
    },
    {
      "cell_type": "code",
      "source": [
        "r=Robot()\n",
        "r.does()"
      ],
      "metadata": {
        "colab": {
          "base_uri": "https://localhost:8080/"
        },
        "id": "cLAqppbdO9rR",
        "outputId": "642549e0-3599-45ef-e396-b2296c03fd7a"
      },
      "execution_count": 10,
      "outputs": [
        {
          "output_type": "execute_result",
          "data": {
            "text/plain": [
              "('disintegrate', 'crush', 'ring')"
            ]
          },
          "metadata": {},
          "execution_count": 10
        }
      ]
    },
    {
      "cell_type": "code",
      "source": [
        ""
      ],
      "metadata": {
        "id": "tl_rAyJ-Phxe"
      },
      "execution_count": null,
      "outputs": []
    }
  ],
  "metadata": {
    "kernelspec": {
      "display_name": "Python 3",
      "language": "python",
      "name": "python3"
    },
    "language_info": {
      "codemirror_mode": {
        "name": "ipython",
        "version": 3
      },
      "file_extension": ".py",
      "mimetype": "text/x-python",
      "name": "python",
      "nbconvert_exporter": "python",
      "pygments_lexer": "ipython3",
      "version": "3.7.0"
    },
    "colab": {
      "name": "python basic assignment 19 final.ipynb",
      "provenance": []
    }
  },
  "nbformat": 4,
  "nbformat_minor": 0
}