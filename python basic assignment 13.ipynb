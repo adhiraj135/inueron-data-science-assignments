{
 "cells": [
  {
   "cell_type": "raw",
   "metadata": {},
   "source": [
    "1. What advantages do Excel spreadsheets have over CSV spreadsheets?"
   ]
  },
  {
   "cell_type": "raw",
   "metadata": {},
   "source": [
    "ans=\n",
    "1. CSV cannot perform Visual basic Coding, functions, formulas and create summaries easily when compared to Excel.\n",
    "2. Reading large data set is much easier for the end-user to read, comprehend and understand when compared to CSV."
   ]
  },
  {
   "cell_type": "raw",
   "metadata": {},
   "source": [
    "2.What do you pass to csv.reader() and csv.writer() to create reader and writer objects?"
   ]
  },
  {
   "cell_type": "code",
   "execution_count": 2,
   "metadata": {},
   "outputs": [
    {
     "name": "stdout",
     "output_type": "stream",
     "text": [
      "['Industry']\n",
      "['Accounting/Finance']\n",
      "['Advertising/Public Relations']\n",
      "['Aerospace/Aviation']\n",
      "['Arts/Entertainment/Publishing']\n",
      "['Automotive']\n",
      "['Banking/Mortgage']\n",
      "['Business Development']\n",
      "['Business Opportunity']\n",
      "['Clerical/Administrative']\n",
      "['Construction/Facilities']\n",
      "['Consumer Goods']\n",
      "['Customer Service']\n",
      "['Education/Training']\n",
      "['Energy/Utilities']\n",
      "['Engineering']\n",
      "['Government/Military']\n",
      "['Green']\n",
      "['Healthcare']\n",
      "['Hospitality/Travel']\n",
      "['Human Resources']\n",
      "['Installation/Maintenance']\n",
      "['Insurance']\n",
      "['Internet']\n",
      "['Job Search Aids']\n",
      "['Law Enforcement/Security']\n",
      "['Legal']\n",
      "['Management/Executive']\n",
      "['Manufacturing/Operations']\n",
      "['Marketing']\n",
      "['Non-Profit/Volunteer']\n",
      "['Pharmaceutical/Biotech']\n",
      "['Professional Services']\n",
      "['QA/Quality Control']\n",
      "['Real Estate']\n",
      "['Restaurant/Food Service']\n",
      "['Retail']\n",
      "['Sales']\n",
      "['Science/Research']\n",
      "['Skilled Labor']\n",
      "['Technology']\n",
      "['Telecommunications']\n",
      "['Transportation/Logistics']\n",
      "['Other']\n"
     ]
    }
   ],
   "source": [
    "import csv\n",
    "with open('industry.csv', 'r') as file:\n",
    "    reader = csv.reader(file)\n",
    "    for i in reader:\n",
    "        print(i)"
   ]
  },
  {
   "cell_type": "code",
   "execution_count": 4,
   "metadata": {},
   "outputs": [],
   "source": [
    "import csv\n",
    "with open('industry.csv', 'w',newline='') as file:\n",
    "    writer =csv.writer(file)\n",
    "    writer.writerows([\"finance\"])"
   ]
  },
  {
   "cell_type": "raw",
   "metadata": {},
   "source": [
    "3. What modes do File objects for reader and writer objects need to be opened in?"
   ]
  },
  {
   "cell_type": "raw",
   "metadata": {},
   "source": [
    "asn = reader should be opened in 'r' mode\n",
    "writer should be opened in 'w' m mode"
   ]
  },
  {
   "cell_type": "raw",
   "metadata": {},
   "source": [
    "4. What method takes a list argument and writes it to a CSV file?"
   ]
  },
  {
   "cell_type": "raw",
   "metadata": {},
   "source": [
    "ans= witerows() method takes a list argument and writes it to a CSV file"
   ]
  },
  {
   "cell_type": "raw",
   "metadata": {},
   "source": [
    "5. What do the keyword arguments delimiter and line terminator do?"
   ]
  },
  {
   "cell_type": "raw",
   "metadata": {},
   "source": [
    "ans= The delimiter is the character that appears between cells on a row. By default, the delimiter for a CSV file is a comma.delimiter = \"\\t\" is used to create space betweer the cells in the row\n",
    "\n",
    "The line terminator is the character that comes at the end of a row. By default, the line terminator is a newline.  linetermibator=\"\\n\\n\" helps in creeating a new line between the rows"
   ]
  },
  {
   "cell_type": "raw",
   "metadata": {},
   "source": [
    "6. What function takes a string of JSON data and returns a Python data structure?"
   ]
  },
  {
   "cell_type": "code",
   "execution_count": 15,
   "metadata": {},
   "outputs": [
    {
     "name": "stdout",
     "output_type": "stream",
     "text": [
      "{'id': 72, 'stationName': 'W 52 St & 11 Ave', 'availableDocks': 32, 'totalDocks': 39, 'latitude': 40.76727216, 'longitude': -73.99392888, 'statusValue': 'In Service', 'statusKey': 1, 'availableBikes': 7, 'stAddress1': 'W 52 St & 11 Ave', 'stAddress2': '', 'city': '', 'postalCode': '', 'location': '', 'altitude': '', 'testStation': False, 'lastCommunicationTime': '2016-01-22 04:30:15 PM', 'landMark': ''}\n"
     ]
    }
   ],
   "source": [
    "import json\n",
    "import requests\n",
    "json_response= requests.get(\"https://feeds.citibikenyc.com/stations/stations.json\")\n",
    "bike_dict = json.loads(json_response.text)\n",
    "print(bike_dict['stationBeanList'][0])"
   ]
  },
  {
   "cell_type": "code",
   "execution_count": 19,
   "metadata": {},
   "outputs": [
    {
     "data": {
      "text/plain": [
       "'{\"name\": \"adhiraj\", \"compnay\": \"inueron\", \"class\": \"datascience\"}'"
      ]
     },
     "execution_count": 19,
     "metadata": {},
     "output_type": "execute_result"
    }
   ],
   "source": [
    "values={\"name\":\"adhiraj\",\n",
    "        \"compnay\":\"inueron\",\n",
    "        \"class\":\"datascience\"}\n",
    "\n",
    "from json.encoder import JSONEncoder\n",
    "JSONEncoder().encode(values)"
   ]
  },
  {
   "cell_type": "code",
   "execution_count": null,
   "metadata": {},
   "outputs": [],
   "source": []
  }
 ],
 "metadata": {
  "kernelspec": {
   "display_name": "Python 3",
   "language": "python",
   "name": "python3"
  },
  "language_info": {
   "codemirror_mode": {
    "name": "ipython",
    "version": 3
   },
   "file_extension": ".py",
   "mimetype": "text/x-python",
   "name": "python",
   "nbconvert_exporter": "python",
   "pygments_lexer": "ipython3",
   "version": "3.7.0"
  }
 },
 "nbformat": 4,
 "nbformat_minor": 2
}
